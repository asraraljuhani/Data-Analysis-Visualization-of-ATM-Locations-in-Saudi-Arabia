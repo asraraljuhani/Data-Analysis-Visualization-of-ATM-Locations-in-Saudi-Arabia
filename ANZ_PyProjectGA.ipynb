{
 "cells": [
  {
   "cell_type": "markdown",
   "metadata": {},
   "source": [
    "# Descriptive Analysis for ATMs in Saudi Arabia\n",
    "### Asrar AlJuhani, Nouf AlZahrani, Zahra'a Hamwi"
   ]
  },
  {
   "cell_type": "markdown",
   "metadata": {},
   "source": [
    "## 1- Import libraries and dataset:"
   ]
  },
  {
   "cell_type": "code",
   "execution_count": 1,
   "metadata": {},
   "outputs": [
    {
     "name": "stderr",
     "output_type": "stream",
     "text": [
      "//anaconda3/lib/python3.7/site-packages/fuzzywuzzy/fuzz.py:11: UserWarning: Using slow pure-python SequenceMatcher. Install python-Levenshtein to remove this warning\n",
      "  warnings.warn('Using slow pure-python SequenceMatcher. Install python-Levenshtein to remove this warning')\n"
     ]
    }
   ],
   "source": [
    "import pandas as pd\n",
    "import numpy as np\n",
    "from fuzzywuzzy import fuzz,process\n",
    "import gmaps\n",
    "import matplotlib.pyplot as plt\n",
    "plt.style.use('seaborn-whitegrid')\n",
    "%matplotlib inline"
   ]
  },
  {
   "cell_type": "code",
   "execution_count": 2,
   "metadata": {},
   "outputs": [],
   "source": [
    "#Google Maps API Key\n",
    "gmaps.configure(api_key=\"ENTER YOUR API KEY HERE\")"
   ]
  },
  {
   "cell_type": "code",
   "execution_count": 3,
   "metadata": {},
   "outputs": [],
   "source": [
    "#Import ATM dataset\n",
    "atms = pd.read_excel('dataset.xlsx',sep='\\t')"
   ]
  },
  {
   "cell_type": "markdown",
   "metadata": {},
   "source": [
    "## 2- Data Exploration:"
   ]
  },
  {
   "cell_type": "code",
   "execution_count": 4,
   "metadata": {},
   "outputs": [
    {
     "data": {
      "text/html": [
       "<div>\n",
       "<style scoped>\n",
       "    .dataframe tbody tr th:only-of-type {\n",
       "        vertical-align: middle;\n",
       "    }\n",
       "\n",
       "    .dataframe tbody tr th {\n",
       "        vertical-align: top;\n",
       "    }\n",
       "\n",
       "    .dataframe thead th {\n",
       "        text-align: right;\n",
       "    }\n",
       "</style>\n",
       "<table border=\"1\" class=\"dataframe\">\n",
       "  <thead>\n",
       "    <tr style=\"text-align: right;\">\n",
       "      <th></th>\n",
       "      <th>Site</th>\n",
       "      <th>الموقع</th>\n",
       "      <th>City English</th>\n",
       "      <th>City Arabic</th>\n",
       "      <th>Reg</th>\n",
       "      <th>Brn</th>\n",
       "      <th>Site Type</th>\n",
       "      <th>X GIS Coordinates</th>\n",
       "      <th>Y GIS Coordinates</th>\n",
       "    </tr>\n",
       "  </thead>\n",
       "  <tbody>\n",
       "    <tr>\n",
       "      <th>0</th>\n",
       "      <td>CA-AKIK BRANCH BAHA 2</td>\n",
       "      <td>فرع العقيق الباحة  2</td>\n",
       "      <td>AL-AQIQ- BAHA</td>\n",
       "      <td>العقيق - الباحة</td>\n",
       "      <td>AL-BAHA</td>\n",
       "      <td>Brn</td>\n",
       "      <td>Room-Window</td>\n",
       "      <td>41.6538</td>\n",
       "      <td>20.2704</td>\n",
       "    </tr>\n",
       "    <tr>\n",
       "      <th>1</th>\n",
       "      <td>CA-AKIK BRANCH BAHA 1</td>\n",
       "      <td>فرع العقيق الباحة 1</td>\n",
       "      <td>AL-AQIQ- BAHA</td>\n",
       "      <td>العقيق - الباحة</td>\n",
       "      <td>AL-BAHA</td>\n",
       "      <td>Brn</td>\n",
       "      <td>Room-Window</td>\n",
       "      <td>41.6538</td>\n",
       "      <td>20.2704</td>\n",
       "    </tr>\n",
       "    <tr>\n",
       "      <th>2</th>\n",
       "      <td>AKIK BRANCH BAHA 3</td>\n",
       "      <td>فرع العقيق الباحة  3</td>\n",
       "      <td>AL-AQIQ- BAHA</td>\n",
       "      <td>العقيق - الباحة</td>\n",
       "      <td>AL-BAHA</td>\n",
       "      <td>Brn</td>\n",
       "      <td>Room-Window</td>\n",
       "      <td>41.6538</td>\n",
       "      <td>20.2704</td>\n",
       "    </tr>\n",
       "    <tr>\n",
       "      <th>3</th>\n",
       "      <td>AL-WAFA GAS STATION</td>\n",
       "      <td>محطة الوفاء - العقيق</td>\n",
       "      <td>AL-AQIQ- BAHA</td>\n",
       "      <td>العقيق - الباحة</td>\n",
       "      <td>AL-BAHA</td>\n",
       "      <td>Of Site</td>\n",
       "      <td>drive up - Island</td>\n",
       "      <td>41.6327</td>\n",
       "      <td>20.2356</td>\n",
       "    </tr>\n",
       "    <tr>\n",
       "      <th>4</th>\n",
       "      <td>ALTAYAR GAS STATION KARA</td>\n",
       "      <td>محطة الطيار - مركز كرا</td>\n",
       "      <td>AL-AQIQ- BAHA</td>\n",
       "      <td>العقيق - الباحة</td>\n",
       "      <td>AL-BAHA</td>\n",
       "      <td>Of Site</td>\n",
       "      <td>drive up - Island</td>\n",
       "      <td>41.5977</td>\n",
       "      <td>20.3888</td>\n",
       "    </tr>\n",
       "  </tbody>\n",
       "</table>\n",
       "</div>"
      ],
      "text/plain": [
       "                       Site                  الموقع   City English  \\\n",
       "0     CA-AKIK BRANCH BAHA 2    فرع العقيق الباحة  2  AL-AQIQ- BAHA   \n",
       "1     CA-AKIK BRANCH BAHA 1     فرع العقيق الباحة 1  AL-AQIQ- BAHA   \n",
       "2        AKIK BRANCH BAHA 3    فرع العقيق الباحة  3  AL-AQIQ- BAHA   \n",
       "3       AL-WAFA GAS STATION    محطة الوفاء - العقيق  AL-AQIQ- BAHA   \n",
       "4  ALTAYAR GAS STATION KARA  محطة الطيار - مركز كرا  AL-AQIQ- BAHA   \n",
       "\n",
       "       City Arabic      Reg      Brn          Site Type X GIS Coordinates  \\\n",
       "0  العقيق - الباحة  AL-BAHA      Brn        Room-Window           41.6538   \n",
       "1  العقيق - الباحة  AL-BAHA      Brn        Room-Window           41.6538   \n",
       "2  العقيق - الباحة  AL-BAHA      Brn        Room-Window           41.6538   \n",
       "3  العقيق - الباحة  AL-BAHA  Of Site  drive up - Island           41.6327   \n",
       "4  العقيق - الباحة  AL-BAHA  Of Site  drive up - Island           41.5977   \n",
       "\n",
       "  Y GIS Coordinates  \n",
       "0           20.2704  \n",
       "1           20.2704  \n",
       "2           20.2704  \n",
       "3           20.2356  \n",
       "4           20.3888  "
      ]
     },
     "execution_count": 4,
     "metadata": {},
     "output_type": "execute_result"
    }
   ],
   "source": [
    "atms.head()"
   ]
  },
  {
   "cell_type": "code",
   "execution_count": 5,
   "metadata": {},
   "outputs": [
    {
     "name": "stdout",
     "output_type": "stream",
     "text": [
      "<class 'pandas.core.frame.DataFrame'>\n",
      "RangeIndex: 15779 entries, 0 to 15778\n",
      "Data columns (total 9 columns):\n",
      "Site                 11172 non-null object\n",
      "الموقع               13419 non-null object\n",
      "City English         11178 non-null object\n",
      "City Arabic          7320 non-null object\n",
      " Reg                 8768 non-null object\n",
      "Brn                  4898 non-null object\n",
      "Site Type            8768 non-null object\n",
      "X GIS Coordinates    15778 non-null object\n",
      "Y GIS Coordinates    15778 non-null object\n",
      "dtypes: object(9)\n",
      "memory usage: 1.1+ MB\n"
     ]
    }
   ],
   "source": [
    "atms.info()"
   ]
  },
  {
   "cell_type": "code",
   "execution_count": 6,
   "metadata": {},
   "outputs": [
    {
     "data": {
      "text/plain": [
       "Site                  4607\n",
       "الموقع                2360\n",
       "City English          4601\n",
       "City Arabic           8459\n",
       " Reg                  7011\n",
       "Brn                  10881\n",
       "Site Type             7011\n",
       "X GIS Coordinates        1\n",
       "Y GIS Coordinates        1\n",
       "dtype: int64"
      ]
     },
     "execution_count": 6,
     "metadata": {},
     "output_type": "execute_result"
    }
   ],
   "source": [
    "atms.isnull().sum()"
   ]
  },
  {
   "cell_type": "code",
   "execution_count": 7,
   "metadata": {},
   "outputs": [
    {
     "data": {
      "text/html": [
       "<div>\n",
       "<style scoped>\n",
       "    .dataframe tbody tr th:only-of-type {\n",
       "        vertical-align: middle;\n",
       "    }\n",
       "\n",
       "    .dataframe tbody tr th {\n",
       "        vertical-align: top;\n",
       "    }\n",
       "\n",
       "    .dataframe thead th {\n",
       "        text-align: right;\n",
       "    }\n",
       "</style>\n",
       "<table border=\"1\" class=\"dataframe\">\n",
       "  <thead>\n",
       "    <tr style=\"text-align: right;\">\n",
       "      <th></th>\n",
       "      <th>Site</th>\n",
       "      <th>الموقع</th>\n",
       "      <th>City English</th>\n",
       "      <th>City Arabic</th>\n",
       "      <th>Reg</th>\n",
       "      <th>Brn</th>\n",
       "      <th>Site Type</th>\n",
       "      <th>X GIS Coordinates</th>\n",
       "      <th>Y GIS Coordinates</th>\n",
       "    </tr>\n",
       "  </thead>\n",
       "  <tbody>\n",
       "    <tr>\n",
       "      <th>count</th>\n",
       "      <td>11172</td>\n",
       "      <td>13419</td>\n",
       "      <td>11178</td>\n",
       "      <td>7320</td>\n",
       "      <td>8768</td>\n",
       "      <td>4898</td>\n",
       "      <td>8768</td>\n",
       "      <td>15778.000000</td>\n",
       "      <td>15778.000000</td>\n",
       "    </tr>\n",
       "    <tr>\n",
       "      <th>unique</th>\n",
       "      <td>10619</td>\n",
       "      <td>11903</td>\n",
       "      <td>625</td>\n",
       "      <td>325</td>\n",
       "      <td>19</td>\n",
       "      <td>3</td>\n",
       "      <td>26</td>\n",
       "      <td>12953.000000</td>\n",
       "      <td>12948.000000</td>\n",
       "    </tr>\n",
       "    <tr>\n",
       "      <th>top</th>\n",
       "      <td>VEGETABLE MARKET</td>\n",
       "      <td>King Abdul Aziz Road</td>\n",
       "      <td>Riyadh</td>\n",
       "      <td>الرياض</td>\n",
       "      <td>Eastern</td>\n",
       "      <td>Of Site</td>\n",
       "      <td>Room-Window</td>\n",
       "      <td>50.170639</td>\n",
       "      <td>26.305472</td>\n",
       "    </tr>\n",
       "    <tr>\n",
       "      <th>freq</th>\n",
       "      <td>7</td>\n",
       "      <td>44</td>\n",
       "      <td>1427</td>\n",
       "      <td>1888</td>\n",
       "      <td>1441</td>\n",
       "      <td>3128</td>\n",
       "      <td>2226</td>\n",
       "      <td>15.000000</td>\n",
       "      <td>15.000000</td>\n",
       "    </tr>\n",
       "  </tbody>\n",
       "</table>\n",
       "</div>"
      ],
      "text/plain": [
       "                    Site                الموقع City English City Arabic  \\\n",
       "count              11172                 13419        11178        7320   \n",
       "unique             10619                 11903          625         325   \n",
       "top     VEGETABLE MARKET  King Abdul Aziz Road       Riyadh      الرياض   \n",
       "freq                   7                    44         1427        1888   \n",
       "\n",
       "            Reg      Brn    Site Type  X GIS Coordinates  Y GIS Coordinates  \n",
       "count      8768     4898         8768       15778.000000       15778.000000  \n",
       "unique       19        3           26       12953.000000       12948.000000  \n",
       "top     Eastern  Of Site  Room-Window          50.170639          26.305472  \n",
       "freq       1441     3128         2226          15.000000          15.000000  "
      ]
     },
     "execution_count": 7,
     "metadata": {},
     "output_type": "execute_result"
    }
   ],
   "source": [
    "atms.describe()"
   ]
  },
  {
   "cell_type": "markdown",
   "metadata": {},
   "source": [
    "- Rename columns for easier access: "
   ]
  },
  {
   "cell_type": "code",
   "execution_count": 8,
   "metadata": {},
   "outputs": [],
   "source": [
    "atms.rename(columns=lambda x:x.replace(' ','_').lower(), inplace=True)"
   ]
  },
  {
   "cell_type": "code",
   "execution_count": 9,
   "metadata": {},
   "outputs": [],
   "source": [
    "atms.rename(columns={'x_gis_coordinates':'lon','y_gis_coordinates':'lat','الموقع':'site_ar','_reg':'reg'},inplace=True);"
   ]
  },
  {
   "cell_type": "code",
   "execution_count": 10,
   "metadata": {},
   "outputs": [
    {
     "data": {
      "text/plain": [
       "array(['AL-AQIQ- BAHA', 'AL-BAHA', 'AL-MANDIQ', 'BEADAH', 'BILGORSHI',\n",
       "       'JARAB AQIQ', 'QULWA', 'AL-BOSAYTA', 'AL-EISAWAYAH', 'AL-HADIASAH',\n",
       "       'AL-JOUF', 'ALNABK ABU QASR', 'AL-QORYAT', 'DAWMAT AL-JANDL',\n",
       "       'MAYQOOH', 'TABARJAL', 'ABHA', 'AFRAA-SABIT AL-ALYAH', 'AL-Amwah',\n",
       "       'ALAREEN', 'AL-BASHAYIR', 'AL-BERK', 'AL-FARASHA', 'AL-HAFAYER',\n",
       "       'AL-HAFEERAH', 'AL-HARJA', 'AL-HEMA', 'AL-HOREADAH',\n",
       "       'AL-JEABAH- Bisha', 'AL-MAGARDAH', 'AL-MAUTHA', 'AL-NAMAS',\n",
       "       'AL-NAQEA', 'AL-QAHMA', 'AL-SOBEAKHAH', 'AL-WADEIAN', 'BALAHMAR',\n",
       "       'BALASMER', 'BANI AMRO', 'BARIQ', 'BISHA', 'JASH-TATHLETH',\n",
       "       'K. MUSHEET', 'K.AL-BAHR', 'KHAYBR AL-GANOUB', 'MAHIL', 'MURBA',\n",
       "       'RIJAL-ALMA', 'SABIT AL-ALYAH', 'SAMKH', 'SARAT OBEADAH',\n",
       "       'TANDAHA', 'TANOMA', 'TATHLETH', 'THALOTH AL-MANDHER',\n",
       "       'THARAN AL-GANOUB', 'TUREEB', 'UHID ROFYADA', 'WADY HASBAL',\n",
       "       'YAARA', 'ABQIQ', 'AIN DAR', 'AL-BATHA Burder  ', 'AL-JUBEAL',\n",
       "       'AL-JUBEAL Indust.', 'AL-KHAFJI', 'AL-KHUBAR', 'AL-NEARYAH',\n",
       "       'AL-QATIF', 'AL-QAYSOMAH', 'AL-RAFEAH', 'AL-ROQAIY',\n",
       "       'AL-SAEARAH VALLAGE', 'AL-SARAR', 'AL-THOQBA', 'AL-Zeebayah',\n",
       "       'ANK', 'DAMMAM', 'DHAHRAN', 'HAFR AL-BATIN', 'IHSA', 'K.K.Miltry',\n",
       "       'MELEAJAH', 'ORAYRA', 'QARYAH', 'RAS AL-KHAIR', 'RAS TANAJIB ',\n",
       "       'RAS TANOURAH', 'SAFUAH', 'SALWAH', 'SIEHAT', 'UM AL-SAHIK',\n",
       "       'AL QAED', 'AL-ADWAH', 'AL-AJFUR', 'AL-AZIM HAIIL', 'AL-GHAZALAH',\n",
       "       'AL-HAIT', 'AL-HALIEFA AL-SOFLA', 'AL-KAHFA', 'AL-KHOTTA',\n",
       "       'AL-SHAMLY', 'AL-SHANAN', 'AL-SOULEMI HAIL', 'BAQAA ', 'DOKHNA',\n",
       "       'DOLAYHAN HAIL', 'HAIL', 'Hail', 'JIBBA', 'MOUQIQ',\n",
       "       'OQLIT BIN TOWALA', 'QENAA-HAIL', 'RAWADIT HAIL', 'SAMEERA',\n",
       "       'TABA VALLAGE', 'TARBAH AL-SHAMAL', 'ABU ARISH',\n",
       "       'AL KHOUBA / JIZAN', 'AL-ARDAH', 'AL-DARB', 'AL-Dayir Biny Malik',\n",
       "       'AL-EDABI', 'AL-FOQAHAA VALLAGE-JAZAN', 'AL-HAQOW - JAZAN',\n",
       "       'AL-HOMYRAA-JAZAN', 'AL-REAS JAZAN', 'AL-SHAQEQ', 'AL-Twal Gate',\n",
       "       'BEECH JAZAN', 'DAMAD', 'FEFA', 'FURSAN ISLAND', 'HORRB', 'JAZAN',\n",
       "       'SABYA', 'SAMTAH', 'UHID AL-MASARHA', 'AL-AIS',\n",
       "       'AL-AKHL - AL-MAHD', 'AL-FAQEER', 'AL-HANAKYAH', 'AL-MAHD',\n",
       "       'AL-Masajeed Vallage', 'AL-OLA', 'AL-RAYIS', 'AL-SHALALHA-MAHD',\n",
       "       'AL-UTAMAH', 'BADR', 'KHAYBAR', 'MADINA', 'Madina', 'YANBU',\n",
       "       'yaNBU', 'YANBU AL-BAHR', 'YANBU AL-Nakhl', 'YANBU INDUSTRAIL',\n",
       "       'ADUM', 'AL-ATAWALAH', 'AL-ATEEF', 'AL-JAMOUM', 'AL-KAMEL',\n",
       "       'AL-KHURMA', 'AL-LEATH', 'AL-MAHANI', 'AL-MEKHWAH', 'AL-METHALIF',\n",
       "       'AL-QOIS', 'AL-QOREA-BINY MALEK', 'AL-QUNFUDHA', 'AL-WASQA',\n",
       "       'ASHERAH-Taif', 'BAHRIT AL-MUJAHDIIN', 'BANI SAID',\n",
       "       'GHAMED AL-ZENAD', 'HADAD BANI MALIK', 'HELI ', 'JEDDAH',\n",
       "       'KHOLEES', 'MAKKAH', 'Makkah', 'MASTORA -Rabrgh', 'MEESAN',\n",
       "       'Mobile ATM', 'MOWAAH', 'NAMERA', 'OM AL-DOOM', 'QYA - TAIF',\n",
       "       'RABEGH', 'RANYA', 'Shaqsan - TAIF', 'SOUTH AL-ARDYAH', 'TAIF',\n",
       "       'TARBUAH', 'THAQIF-TAIF', 'THEWAL', 'THOLIM', 'AL-WADEAH Border',\n",
       "       'EIBAN', 'HOBONA', 'NAJRAN', 'SAR-Najran', 'SHARORA', 'YADMA',\n",
       "       'AL-Owaqilia ', 'ARAR', 'LINA', 'RAFHA', 'RAWDIT BIN HABBAS-Rafha',\n",
       "       'TALIT AL-TIMYAT - Rafha', 'TUREEF', 'AL- DIRIYAH', 'AL QARIN',\n",
       "       'AL-ASYAH', 'AL-BADAYIE', 'AL-BEAKIRYAH', 'AL-DOLYIMYAH',\n",
       "       'AL-FAWARAH', 'AL-FOWILIQ Vallage', 'AL-KHOBRA', 'AL-MELADAH',\n",
       "       'AL-MEZNIB', 'AL-NABHANYAH', 'AL-NAQRA', 'AL-QOWARAH',\n",
       "       'AL-RABEAIH', 'AL-RASS', 'AL-SHAMASYAI ', 'AL-SHEHYAH', 'BUREIDAH',\n",
       "       'DARYAH', 'Dolea Rashed', 'HOTIT SEADIR', 'NAFIE', 'ONAYZA',\n",
       "       'OQLIT AL-SOUQOR', 'QOSYBAA', 'QUBBA', 'RIYAD AL-KHABRA', 'SHIRY',\n",
       "       'UON AL-GAWAH', 'AFIF', 'AL-AFLAG', 'AL-ARTAWAYAH', 'AL-BADIE',\n",
       "       'AL-BEJADYAH', 'AL-DALM', 'AL-DAWADMI', 'AL-GHAT',\n",
       "       'AL-Haiathim Kharj', 'AL-HARIQ', 'AL-HDAR', 'AL-JILAH', 'AL-KHARJ',\n",
       "       'AL-MAJMAH', 'AL-MEAZAHMYAH', 'AL-OUUANAH', 'AL-QASB',\n",
       "       'AL-QUWAYAYAH', 'AL-RAFAEE', 'AL-RAIN', 'AL-ROWAYADAH', 'AL-SAHNA',\n",
       "       'AL-SOULIL', 'AL-ZULFI', 'AOTHYLAN Bs-SER', 'DURMA', 'HALBAN',\n",
       "       'HASAT QAHTAN', 'HIRMALA', 'HOTIT BANI TAMIM', 'JALAJIL',\n",
       "       'JO TOWN', 'MELHIM', 'MERAT', 'NAJJAN - AL-DALAM', 'OSHEAQAR',\n",
       "       'RAMAH', 'RIYADH', 'SAJER', 'SHAQRA', 'TAHIE', 'THADIK', 'TUMAIR',\n",
       "       'UM EL-JAMAJM', 'WADI AL-DAWASIR', 'AL-BADA', 'AL-KHERAPAH',\n",
       "       'AL-WAJH', 'BEER BIN HERMAS', 'DOUBA', 'HALAT AMAR', 'HAQL',\n",
       "       'OMLIG', 'TABOUK', 'Tabouk', 'TAYMAA', 'Riyadh', 'Jeddah', 'Taif',\n",
       "       'Dammam', 'Khobar', 'Khamis Mushait', 'Hafouf',\n",
       "       'Jubail Industrial', 'Madinah', 'Abha', 'Kharj', 'Dhahran',\n",
       "       'Durma', 'mubaraz', 'Arar', 'Najran', 'Dalam', 'Onaizah',\n",
       "       'Buraidah', 'Bukairiah', 'Rass', 'Deryiah', 'Oyoun Al Jwa',\n",
       "       'Methnab', 'Hafer Al Batin', 'Khabra', 'Muzahmeyah', 'Sakaka',\n",
       "       'Quaieyyah', 'Badaie', 'Riyadh Alkabra', 'Al Shamli', 'Malham',\n",
       "       'Thadiq', 'Oyayna', 'Horimla', 'Zulfi', 'riyadh', 'Madinah\\xa0',\n",
       "       'Riyadh\\xa0', 'Khubar', 'Madian', 'Al Dawadmi', 'Jazan', 'Rmah',\n",
       "       'Domat Al Jandal', 'Skaka', 'Bisha', 'Bisha\\xa0', 'Sabya',\n",
       "       'Abo Arish', 'Ahad Mashr', 'Biesh', 'Samta', 'jeddah', 'Al Hafouf',\n",
       "       'Ahad Al Mesarha', 'AlRiyadh', 'Al Ardah', 'Alkabra ', 'Yanbu',\n",
       "       'Dhamad', 'Riyadh Alkabra ', 'Al Rass', 'Hafr AlBaten', 'Shaqra',\n",
       "       'Hafrel Batin', 'Bukairiyah', 'Biesh -Jazan', 'Sabia', \"Majma'ah\",\n",
       "       'Riyadh ', 'Jubail ', 'Sajer', 'Mhail Aseer', 'Gazalah', 'Dawdmi',\n",
       "       'Al Hassa', 'Bieshah', 'Rgba', 'AL Baha', '\\xa0Riyadh', 'Shagra',\n",
       "       'Oshaiger', 'Marat', 'Al Baha', 'AL Mandaq', 'Al Hassa - Mubarraz',\n",
       "       'Bgaig', 'AHAD RAFIDAH', 'Al-Ahasa', 'Al-Kharj', 'Al-Khobar',\n",
       "       'Al-Uyanah', 'Buraidah ', 'Hafer Al Baten', 'Jazan ', 'Jubail',\n",
       "       'Onizah', 'Qatif', 'QATIF', 'Tabuk', nan, 'ALMADINAH ALMUNAWARAH',\n",
       "       'KHAMIS MUSHAYT', 'AHAD ALMUSARIHAH', 'AL-IDABI', 'AL-ARIDAH',\n",
       "       'BAYSH', 'ZAHRAN ALJANUB', 'AD-DARB', 'AHAD RIFAYDAH', 'ALBRK',\n",
       "       'RIJAL ALMA', 'MHAYIL', 'WADI BN HASHBAL', 'ALQUNFIDHAH', 'BAREQ',\n",
       "       'ALQOZ', 'AnNAMAS', 'ALMAJARDAH', \"SHADA  ALA'LA\", 'MRAN',\n",
       "       'AL-MUKHWAH', 'BILJURASHI', 'QILWAH', 'BISHAH', 'WADI ADDAWASIR',\n",
       "       'AsSULAYYIL', 'ALTAIF', 'MAKKAH ALMOKARRAMAH', 'ALAFLAJ', 'RABIGH',\n",
       "       'KHULAYS', 'HAWTAT BANI TAMIM', 'ALMAHD', 'ALKHARJ', 'ALQUWAYIYAH',\n",
       "       'YANBU ALBAHR', 'HARDH', 'HLAT ALJLAH', 'Ad-DUWADIMI', 'Alrayn',\n",
       "       'ALMUZAHIMIYAH', 'ALHINAKIYAH', 'ALJBYLAH', 'ALAHSA', 'ALHAFOOF',\n",
       "       'RAWDAT SODAIR', 'ArRASS', 'ALMAJMAAH', 'BUQAYQ', 'UNAYZAH',\n",
       "       'ALKHUBAR', 'ZULFI', 'ALDHHRAN', 'BURAYDAH', 'SEYHAT', 'ALQATIF',\n",
       "       'ALULA', 'SAFWA', 'RAS TANNURAH', 'ALJUBAYL', 'TAYMA', 'BAQA',\n",
       "       'HAFAR ALBATIN', 'ALKHAFJI', 'ALHAMMAD', 'SAKAKA', 'AL-QURYYAT',\n",
       "       'BALQARN', 'RIYAD ALKHABRA', 'ALRASS', 'ALMIDHNAB', 'AQLAT ALSQOR',\n",
       "       'Aldoriyah', 'ALNABHABIYAH', 'TANOMAH', 'ALNUAYRIYAH', 'SHARURAH',\n",
       "       'Al BEKERIYAH', 'Rafha', 'ALHASSA', 'ALJOUF', 'BLLHAMR',\n",
       "       'Sabt alalya', 'Uyun Aljiwa -AlQassim ', 'Sarat Abiedah',\n",
       "       'Bllsamar', 'Umluj ', 'Albadaya ', 'Rajal Alma', 'Huroob', 'Hofuf',\n",
       "       'Ramah ', 'TABOUK-Sharma', 'Al Taif', 'Al Khafji', 'Al Hofuf',\n",
       "       'Al Mubarraz', 'Al Madinah', 'Bader', 'Turubah', 'Rabigh',\n",
       "       'al jomom', 'Wadi Qodaid', 'Umluj', 'Al Lith', 'Thuwal', 'Khaybar',\n",
       "       'Khulais', \"Wadi Al Fora'a\", 'Aljmom', 'Al Ula', 'Dahaban',\n",
       "       'Al Kharj', 'Al Aflaj', 'Al Muzahmiyya', 'Al Dareeyah',\n",
       "       \"Al Quway'iyah\", 'Dhurma', 'Al Delam', 'Hotat - Sudayr',\n",
       "       'Hotat - Bani Tamim', 'Shaqraa', 'Tumaer', 'Rimah', \"Al Majma'ah\",\n",
       "       'Sulayyil', 'Al Jellah', 'Afeef', 'Marrat', 'Musayqira',\n",
       "       'Fayda al-Serr', 'Al Dhahran', 'Al Khobar', 'Asaereah',\n",
       "       'Hafer Al Baten M.', 'Al Nayriah', 'Al Jubail', 'Al Qatif',\n",
       "       'Ras Tanura', 'Al Thuqbah', 'Saihat', 'Al Jafr', 'Bqaiq',\n",
       "       'Al Uyun', 'Qaryat Al Ulya', 'Safwa', 'Tarout', 'Ras Mishab',\n",
       "       'Al Ruqai', 'Um Al Sahek', 'Muleejah', 'Urayarah', 'Al Adliya',\n",
       "       'Al Kaysomah', 'Haql', 'Al Qurayat', 'Al Haditha', \"Ara'ar\",\n",
       "       'Dhuba', 'Dumat Al Jandal', 'Halat Ammar', 'Turaif', 'Al Ayis',\n",
       "       'Bir Bin Hermas', 'Magna', 'Tayma', 'Duba', 'Baljurashi',\n",
       "       'Al Namas', 'Tareeb', 'Abu Areesh', 'Jizan', 'Ahad al Masarihah',\n",
       "       'Sabt Al alayah', 'Sharurah', 'Mahayil Asir', 'Wadi Al Dawasir',\n",
       "       'Al Aridhah', 'Ahad Rafidah', 'Qilwah', 'Aqiq', 'Damad', 'Samtah',\n",
       "       'Tanomah', 'aqaiq', 'Bader Al Janoub', 'Al Darb', 'Al-Makhwah',\n",
       "       'AL Bark', 'Almandq', 'AL nusba', 'Al Qunfudhah', 'Rijal almae',\n",
       "       'Al Haridhah', 'Sarat Abeedah', 'Khabt Saeed', 'Dhahran Al Janub',\n",
       "       'abha', 'Tebab', 'Al Mjardh', 'Bareq', 'Al Zulfi', 'Oyoun Al Jiwa',\n",
       "       'Riyadh Al Khabra', 'Al Mithnab', 'Al Artawiah', 'Al Badaya',\n",
       "       'Al Bukiriyah', 'Al Ghat', \"Baqa'a\", 'Al Bjadeyyah', 'Aisawiyah',\n",
       "       'Al-Kharaj', 'Onaiza', 'Jezan', 'Khamis Mushiet', 'Al-Kamil',\n",
       "       'Al-Baha', 'Asfan ', 'Rabegh', 'Dahran', 'Hufuf', 'Sehat',\n",
       "       'Mubarraz', 'Al-khobar', 'Ras Tannourah'], dtype=object)"
      ]
     },
     "execution_count": 10,
     "metadata": {},
     "output_type": "execute_result"
    }
   ],
   "source": [
    "atms['city_english'].unique()"
   ]
  },
  {
   "cell_type": "markdown",
   "metadata": {},
   "source": [
    "## 3- Data Cleaning:"
   ]
  },
  {
   "cell_type": "markdown",
   "metadata": {},
   "source": [
    "- Drop duplicated records"
   ]
  },
  {
   "cell_type": "code",
   "execution_count": 11,
   "metadata": {},
   "outputs": [
    {
     "data": {
      "text/plain": [
       "(15440, 9)"
      ]
     },
     "execution_count": 11,
     "metadata": {},
     "output_type": "execute_result"
    }
   ],
   "source": [
    "#Drop duplicated records that are  identical in all colounm values\n",
    "atms.drop_duplicates(keep='first',inplace=True)\n",
    "atms.shape"
   ]
  },
  {
   "cell_type": "code",
   "execution_count": 12,
   "metadata": {},
   "outputs": [
    {
     "data": {
      "text/plain": [
       "2372"
      ]
     },
     "execution_count": 12,
     "metadata": {},
     "output_type": "execute_result"
    }
   ],
   "source": [
    "atms.duplicated(subset=['lon','lat']).sum()"
   ]
  },
  {
   "cell_type": "code",
   "execution_count": 13,
   "metadata": {},
   "outputs": [],
   "source": [
    "#Drop duplicated records that have the same X and Y Coordinates\n",
    "atms.drop_duplicates(subset=['lon','lat'],keep='first',inplace=True);"
   ]
  },
  {
   "cell_type": "code",
   "execution_count": 14,
   "metadata": {},
   "outputs": [
    {
     "data": {
      "text/plain": [
       "(13068, 9)"
      ]
     },
     "execution_count": 14,
     "metadata": {},
     "output_type": "execute_result"
    }
   ],
   "source": [
    "atms.shape"
   ]
  },
  {
   "cell_type": "markdown",
   "metadata": {},
   "source": [
    "- Cleaning Cities and Region Columns:\n",
    "   - a.  Upper case all cities\n",
    "   - b.  Remove white spaces\n",
    "   - c.  Uniform naming style: convert all (AL-) to (AL)\n",
    "   - d.  Check similarity using FuzzyWuzzy library\n",
    "   - e.  Manual replacement for incorrect spellings "
   ]
  },
  {
   "cell_type": "code",
   "execution_count": 15,
   "metadata": {},
   "outputs": [],
   "source": [
    "# For city_english column:"
   ]
  },
  {
   "cell_type": "code",
   "execution_count": 16,
   "metadata": {},
   "outputs": [],
   "source": [
    "# Upper case all cities\n",
    "atms['city_english'] = atms['city_english'].str.upper()"
   ]
  },
  {
   "cell_type": "code",
   "execution_count": 17,
   "metadata": {},
   "outputs": [
    {
     "data": {
      "text/plain": [
       "576"
      ]
     },
     "execution_count": 17,
     "metadata": {},
     "output_type": "execute_result"
    }
   ],
   "source": [
    "# Checking the change in number of cities in city_english column\n",
    "atms['city_english'].nunique()"
   ]
  },
  {
   "cell_type": "code",
   "execution_count": 18,
   "metadata": {},
   "outputs": [
    {
     "data": {
      "text/plain": [
       "566"
      ]
     },
     "execution_count": 18,
     "metadata": {},
     "output_type": "execute_result"
    }
   ],
   "source": [
    "# Remove white spaces\n",
    "atms['city_english']=atms['city_english'].str.strip();\n",
    "atms['city_english'].nunique()"
   ]
  },
  {
   "cell_type": "code",
   "execution_count": 19,
   "metadata": {
    "scrolled": true
   },
   "outputs": [
    {
     "data": {
      "text/plain": [
       "538"
      ]
     },
     "execution_count": 19,
     "metadata": {},
     "output_type": "execute_result"
    }
   ],
   "source": [
    "# Uniform naming style: convert all (AL-) to (AL)\n",
    "atms.replace(to_replace ='AL-', value = 'AL', regex = True,inplace=True) \n",
    "atms.replace(to_replace ='AL ', value = 'AL', regex = True,inplace=True)\n",
    "atms['city_english'].nunique()"
   ]
  },
  {
   "cell_type": "code",
   "execution_count": 20,
   "metadata": {},
   "outputs": [],
   "source": [
    "def similar(column,score,limit=0):\n",
    "    \n",
    "    \"\"\" Print cities with similar spellings by specifying the ratio of similarity between each two cities \n",
    "        using FuzzyWuzzy library by looping through unique cities list \n",
    "        to ease handling different spelling of cities names  \n",
    "    \"\"\"\n",
    "    \n",
    "    unique_list=atms[column].unique()\n",
    "    unique_list2=np.asarray(unique_list)\n",
    "    if limit==0:\n",
    "        for i in range(len(unique_list)):\n",
    "            for j in range(len(unique_list2)-1,-1,-1):\n",
    "                if(isinstance(unique_list[i],str) and isinstance(unique_list2[j],str) and i!=j):\n",
    "                    if (fuzz.ratio(unique_list[i],unique_list2[j]) > score ):\n",
    "                        print(unique_list[i],\"is similar to\",unique_list2[j]);\n",
    "    else:\n",
    "        for i in range(len(unique_list)):\n",
    "            for j in range(len(unique_list2)-1,-1,-1):\n",
    "                if(isinstance(unique_list[i],str) and isinstance(unique_list2[j],str) and i!=j):\n",
    "                    if (fuzz.ratio(unique_list[i],unique_list2[j]) >= score and fuzz.ratio(unique_list[i],unique_list2[j]) < limit ):\n",
    "                        print(unique_list[i],\"is similar to\",unique_list2[j])\n",
    "                        "
   ]
  },
  {
   "cell_type": "code",
   "execution_count": 21,
   "metadata": {},
   "outputs": [
    {
     "name": "stdout",
     "output_type": "stream",
     "text": [
      "HAFR ALBATIN is similar to HAFAR ALBATIN\n",
      "HAFR ALBATIN is similar to HAFER ALBATIN\n",
      "RAS TANOURAH is similar to RAS TANNOURAH\n",
      "RIYAD ALKHABRA is similar to RIYADH ALKHABRA\n",
      "OYOUN ALJWA is similar to OYOUN ALJIWA\n",
      "HAFER ALBATIN is similar to HAFR ALBATIN\n",
      "RIYADH ALKABRA is similar to RIYADH ALKHABRA\n",
      "HAFR ALBATEN is similar to HAFER ALBATEN\n",
      "HAFER ALBATEN is similar to HAFR ALBATEN\n",
      "ALQUWAYIYAH is similar to ALQUWAY'IYAH\n",
      "RAS TANNURAH is similar to RAS TANNOURAH\n",
      "HAFAR ALBATIN is similar to HAFR ALBATIN\n",
      "ALQUWAY'IYAH is similar to ALQUWAYIYAH\n",
      "OYOUN ALJIWA is similar to OYOUN ALJWA\n",
      "RIYADH ALKHABRA is similar to RIYADH ALKABRA\n",
      "RIYADH ALKHABRA is similar to RIYAD ALKHABRA\n",
      "RAS TANNOURAH is similar to RAS TANNURAH\n",
      "RAS TANNOURAH is similar to RAS TANOURAH\n"
     ]
    }
   ],
   "source": [
    "# List of cities with similar spellings, similarity ratio= 95\n",
    "similar('city_english',95)"
   ]
  },
  {
   "cell_type": "code",
   "execution_count": 22,
   "metadata": {},
   "outputs": [],
   "source": [
    "# Choose one spelling for each city by replacing bad spelling with the chosen one\n",
    "atms.replace(to_replace =['HAFAR ALBATIN','RAS TANOURAH','WADI AL DAWASIR','OYOUN AL JWA','RIYADH ALKABRA '], \n",
    "             value =['HAFR ALBATIN','RAS TANNOURAH','WADI ALDAWASIR','OYOUN AL JIWA','RIYADH ALKHABRA'], \n",
    "             regex = False,inplace=True) "
   ]
  },
  {
   "cell_type": "code",
   "execution_count": 23,
   "metadata": {},
   "outputs": [
    {
     "name": "stdout",
     "output_type": "stream",
     "text": [
      "HAFR ALBATIN is similar to HAFER ALBATIN\n",
      "RAS TANNOURAH is similar to RAS TANNURAH\n",
      "RIYAD ALKHABRA is similar to RIYADH ALKHABRA\n",
      "OYOUN ALJWA is similar to OYOUN ALJIWA\n",
      "HAFER ALBATIN is similar to HAFR ALBATIN\n",
      "RIYADH ALKABRA is similar to RIYADH ALKHABRA\n",
      "HAFR ALBATEN is similar to HAFER ALBATEN\n",
      "HAFER ALBATEN is similar to HAFR ALBATEN\n",
      "ALQUWAYIYAH is similar to ALQUWAY'IYAH\n",
      "RAS TANNURAH is similar to RAS TANNOURAH\n",
      "ALQUWAY'IYAH is similar to ALQUWAYIYAH\n",
      "OYOUN ALJIWA is similar to OYOUN ALJWA\n",
      "RIYADH ALKHABRA is similar to RIYADH ALKABRA\n",
      "RIYADH ALKHABRA is similar to RIYAD ALKHABRA\n"
     ]
    }
   ],
   "source": [
    "similar('city_english',95)"
   ]
  },
  {
   "cell_type": "code",
   "execution_count": 24,
   "metadata": {},
   "outputs": [],
   "source": [
    "atms.replace(to_replace =['RAS TANNURAH','RIYAD ALKHABRA','RIYADH ALKABRA','RIYADH AL KHABRA'], \n",
    "             value =['RAS TANNOURAH','RIYADH ALKHABRA','RIYADH ALKHABRA','RIYADH ALKHABRA'], \n",
    "             regex = False,inplace=True) "
   ]
  },
  {
   "cell_type": "code",
   "execution_count": 25,
   "metadata": {},
   "outputs": [
    {
     "name": "stdout",
     "output_type": "stream",
     "text": [
      "RIJALALMA is similar to RIJALALMAE\n",
      "HAFR ALBATIN is similar to HAFER ALBATIN\n",
      "ALQUNFUDHA is similar to ALQUNFUDHAH\n",
      "HALAT AMAR is similar to HALAT AMMAR\n",
      "OYOUN ALJWA is similar to OYOUN ALJIWA\n",
      "HAFER ALBATIN is similar to HAFR ALBATIN\n",
      "HAFR ALBATEN is similar to HAFER ALBATEN\n",
      "HAFER ALBATEN is similar to HAFR ALBATEN\n",
      "ALQUWAYIYAH is similar to ALQUWAY'IYAH\n",
      "ALMAJMAAH is similar to ALMAJMA'AH\n",
      "ALQUWAY'IYAH is similar to ALQUWAYIYAH\n",
      "ALMAJMA'AH is similar to ALMAJMAAH\n",
      "HALAT AMMAR is similar to HALAT AMAR\n",
      "ALARIDHAH is similar to ALHARIDHAH\n",
      "ALQUNFUDHAH is similar to ALQUNFUDHA\n",
      "RIJALALMAE is similar to RIJALALMA\n",
      "ALHARIDHAH is similar to ALARIDHAH\n",
      "OYOUN ALJIWA is similar to OYOUN ALJWA\n"
     ]
    }
   ],
   "source": [
    "similar('city_english',94)"
   ]
  },
  {
   "cell_type": "code",
   "execution_count": 26,
   "metadata": {},
   "outputs": [],
   "source": [
    "atms.replace(to_replace =['RIJALALMA','RIJALALMAE','HAFER ALBATIN','ALQUNFUDHA','HALAT AMAR',\"ALQUWAY'IYAH\",\"ALMAJMA'AH\",'HAFER ALBATEN'], \n",
    "             value =['RIJAL ALMA','RIJAL ALMA','HAFR ALBATIN','ALQUNFUDHAH','HALAT AMMAR','ALQUWAYIYAH','ALMAJMAAH','HAFR ALBATEN'], \n",
    "             regex = False,inplace=True) "
   ]
  },
  {
   "cell_type": "code",
   "execution_count": 27,
   "metadata": {},
   "outputs": [
    {
     "name": "stdout",
     "output_type": "stream",
     "text": [
      "ALMAJMAH is similar to ALMAJMAAH\n",
      "OYOUN ALJWA is similar to OYOUN ALJIWA\n",
      "AHAD ALMUSARIHAH is similar to AHAD ALMASARIHAH\n",
      "ALARIDAH is similar to ALARIDHAH\n",
      "ALMAJMAAH is similar to ALMAJMAH\n",
      "ALDHHRAN is similar to ALDHAHRAN\n",
      "ALDHAHRAN is similar to ALDHHRAN\n",
      "AHAD ALMASARIHAH is similar to AHAD ALMUSARIHAH\n",
      "ALARIDHAH is similar to ALHARIDHAH\n",
      "ALARIDHAH is similar to ALARIDAH\n",
      "ALHARIDHAH is similar to ALARIDHAH\n",
      "OYOUN ALJIWA is similar to OYOUN ALJWA\n"
     ]
    }
   ],
   "source": [
    "similar('city_english',93)"
   ]
  },
  {
   "cell_type": "code",
   "execution_count": 28,
   "metadata": {},
   "outputs": [],
   "source": [
    "atms.replace(to_replace =['ALMAJMAH','BURAIDAH ','AHAD ALMUSARIHAH','ALDHHRAN','ALBADAYA ','ALARIDAH'], \n",
    "             value = ['ALMAJMAAH','BURAIDAH','AHAD ALMASARIHAH','ALDHAHRAN','ALBADAYA','ALARIDHAH'], \n",
    "             regex = False,inplace=True) "
   ]
  },
  {
   "cell_type": "code",
   "execution_count": 29,
   "metadata": {},
   "outputs": [
    {
     "name": "stdout",
     "output_type": "stream",
     "text": [
      "ALMANDIQ is similar to ALMANDQ\n",
      "ALKHARJ is similar to ALKHARAJ\n",
      "WADI ALDAWASIR is similar to WADI ADDAWASIR\n",
      "KHAMIS MUSHAIT is similar to KHAMIS MUSHIET\n",
      "KHAMIS MUSHAIT is similar to KHAMIS MUSHAYT\n",
      "MUBARAZ is similar to MUBARRAZ\n",
      "OYOUN ALJWA is similar to OYOUN ALJIWA\n",
      "DOMAT ALJANDAL is similar to DUMAT ALJANDAL\n",
      "ALMANDAQ is similar to ALMANDQ\n",
      "KHAMIS MUSHAYT is similar to KHAMIS MUSHAIT\n",
      "ALARIDHAH is similar to ALHARIDHAH\n",
      "WADI ADDAWASIR is similar to WADI ALDAWASIR\n",
      "DUMAT ALJANDAL is similar to DOMAT ALJANDAL\n",
      "ALMANDQ is similar to ALMANDAQ\n",
      "ALMANDQ is similar to ALMANDIQ\n",
      "ALHARIDHAH is similar to ALARIDHAH\n",
      "OYOUN ALJIWA is similar to OYOUN ALJWA\n",
      "ALKHARAJ is similar to ALKHARJ\n",
      "KHAMIS MUSHIET is similar to KHAMIS MUSHAIT\n",
      "MUBARRAZ is similar to MUBARAZ\n"
     ]
    }
   ],
   "source": [
    "similar('city_english',92)"
   ]
  },
  {
   "cell_type": "code",
   "execution_count": 30,
   "metadata": {},
   "outputs": [],
   "source": [
    "atms.replace(to_replace =['ALMANDQ','ALKHARAJ','WADI ADDAWASIR','KHAMIS MUSHIET','KHAMIS MUSHAYT','MADINAH ','MUBARAZ','DOMAT ALJANDAL'], \n",
    "             value = ['ALMANDIQ','ALKHARJ','WADI ALDAWASIR','KHAMIS MUSHAIT','KHAMIS MUSHAIT','MADINAH','MUBARRAZ','DUMAT ALJANDAL'], \n",
    "             regex = False,inplace=True) "
   ]
  },
  {
   "cell_type": "code",
   "execution_count": 31,
   "metadata": {},
   "outputs": [
    {
     "name": "stdout",
     "output_type": "stream",
     "text": [
      "SABIT ALALYAH is similar to SABT ALALAYAH\n",
      "SABIT ALALYAH is similar to SABT ALALYA\n",
      "TANOMA is similar to TANOMAH\n",
      "DHAHRAN is similar to DAHRAN\n",
      "HAFR ALBATIN is similar to HAFR ALBATEN\n",
      "ALRAYIS is similar to ALAYIS\n",
      "MADINA is similar to MADINAH\n",
      "SHAQRA is similar to SHAQRAA\n",
      "MADINAH is similar to MADINA\n",
      "ONAIZAH is similar to ONAIZA\n",
      "ONAIZAH is similar to ONIZAH\n",
      "OYOUN ALJWA is similar to OYOUN ALJIWA\n",
      "HAFR ALBATEN is similar to HAFR ALBATIN\n",
      "BIESHAH is similar to BISHAH\n",
      "ALAHASA is similar to ALAHSA\n",
      "ONIZAH is similar to ONAIZAH\n",
      "ALARIDHAH is similar to ALHARIDHAH\n",
      "BISHAH is similar to BIESHAH\n",
      "ALAHSA is similar to ALAHASA\n",
      "TANOMAH is similar to TANOMA\n",
      "SABT ALALYA is similar to SABT ALALAYAH\n",
      "SABT ALALYA is similar to SABIT ALALYAH\n",
      "SARAT ABIEDAH is similar to SARAT ABEEDAH\n",
      "ALJOMOM is similar to ALJMOM\n",
      "ALJMOM is similar to ALJOMOM\n",
      "SHAQRAA is similar to SHAQRA\n",
      "ALAYIS is similar to ALRAYIS\n",
      "SABT ALALAYAH is similar to SABT ALALYA\n",
      "SABT ALALAYAH is similar to SABIT ALALYAH\n",
      "ALHARIDHAH is similar to ALARIDHAH\n",
      "SARAT ABEEDAH is similar to SARAT ABIEDAH\n",
      "OYOUN ALJIWA is similar to OYOUN ALJWA\n",
      "ONAIZA is similar to ONAIZAH\n",
      "DAHRAN is similar to DHAHRAN\n"
     ]
    }
   ],
   "source": [
    "similar('city_english',91)"
   ]
  },
  {
   "cell_type": "code",
   "execution_count": 32,
   "metadata": {},
   "outputs": [],
   "source": [
    "atms.replace(to_replace =['DAHRAN','ONAIZA','SARAT ABEEDAH','SABT ALALYA','SABIT ALALYAH','SHAQRA','ALJMOM','TANOMA','ALAHASA'], \n",
    "                 value = ['DHAHRAN','ONAIZAH','SARAT ABIEDAH','SABT ALALAYAH','SABT ALALAYAH','SHAQRAA','ALJOMOM','TANOMAH','ALAHSA'], \n",
    "             regex = False,inplace=True) "
   ]
  },
  {
   "cell_type": "code",
   "execution_count": 33,
   "metadata": {},
   "outputs": [
    {
     "name": "stdout",
     "output_type": "stream",
     "text": [
      "HAFR ALBATIN is similar to HAFR ALBATEN\n",
      "ALRAYIS is similar to ALAYIS\n",
      "MADINA is similar to MADINAH\n",
      "MADINAH is similar to MADINA\n",
      "ONAIZAH is similar to ONIZAH\n",
      "OYOUN ALJWA is similar to OYOUN ALJIWA\n",
      "HAFR ALBATEN is similar to HAFR ALBATIN\n",
      "BIESHAH is similar to BISHAH\n",
      "ONIZAH is similar to ONAIZAH\n",
      "ALARIDHAH is similar to ALHARIDHAH\n",
      "BISHAH is similar to BIESHAH\n",
      "ALAYIS is similar to ALRAYIS\n",
      "ALHARIDHAH is similar to ALARIDHAH\n",
      "OYOUN ALJIWA is similar to OYOUN ALJWA\n"
     ]
    }
   ],
   "source": [
    "similar('city_english',91)"
   ]
  },
  {
   "cell_type": "code",
   "execution_count": 34,
   "metadata": {},
   "outputs": [],
   "source": [
    "atms.replace(to_replace =['BIESHAH','ONIZAH','JUBAIL ',' RIYADH','HAFR ALBATEN','RIYADH '], \n",
    "                 value = ['BISHAH','ONAIZAH','JUBAIL','RIYADH','HAFR ALBATIN','RIYADH'], \n",
    "             regex = False,inplace=True) "
   ]
  },
  {
   "cell_type": "code",
   "execution_count": 35,
   "metadata": {},
   "outputs": [
    {
     "name": "stdout",
     "output_type": "stream",
     "text": [
      "ALBERK is similar to ALBRK\n",
      "BISHA is similar to BISHAH\n",
      "SIEHAT is similar to SEHAT\n",
      "BAQAA is similar to BAQA'A\n",
      "DAMAD is similar to DHAMAD\n",
      "SAMTAH is similar to SAMTA\n",
      "ALAIS is similar to ALAYIS\n",
      "ALRAYIS is similar to ALAYIS\n",
      "MADINA is similar to MADINAH\n",
      "ALQUNFUDHAH is similar to ALQUNFIDHAH\n",
      "ALQUWAYAYAH is similar to ALQUWAYIYAH\n",
      "DURMA is similar to DHURMA\n",
      "TABOUK is similar to TABUK\n",
      "TAYMAA is similar to TAYMA\n",
      "MADINAH is similar to MADINA\n",
      "OYOUN ALJWA is similar to OYOUN ALJIWA\n",
      "SAKAKA is similar to SKAKA\n",
      "SKAKA is similar to SAKAKA\n",
      "SAMTA is similar to SAMTAH\n",
      "DHAMAD is similar to DAMAD\n",
      "BISHAH is similar to BISHA\n",
      "MARAT is similar to MARRAT\n",
      "TABUK is similar to TABOUK\n",
      "ALARIDHAH is similar to ALHARIDHAH\n",
      "ALBRK is similar to ALBARK\n",
      "ALBRK is similar to ALBERK\n",
      "ALQUNFIDHAH is similar to ALQUNFUDHAH\n",
      "ALQUWAYIYAH is similar to ALQUWAYAYAH\n",
      "SEYHAT is similar to SEHAT\n",
      "TAYMA is similar to TAYMAA\n",
      "DHURMA is similar to DURMA\n",
      "MARRAT is similar to MARAT\n",
      "ALAYIS is similar to ALRAYIS\n",
      "ALAYIS is similar to ALAIS\n",
      "ALBARK is similar to ALBRK\n",
      "ALHARIDHAH is similar to ALARIDHAH\n",
      "OYOUN ALJIWA is similar to OYOUN ALJWA\n",
      "BAQA'A is similar to BAQAA\n",
      "SEHAT is similar to SEYHAT\n",
      "SEHAT is similar to SIEHAT\n"
     ]
    }
   ],
   "source": [
    "similar('city_english',90)"
   ]
  },
  {
   "cell_type": "code",
   "execution_count": 36,
   "metadata": {},
   "outputs": [],
   "source": [
    "atms.replace(to_replace =['SIEHAT','SEHAT','ALAYIS','MARAT','DURMA','UMLUJ ','RAMAH ','TAYMA','ALQUWAYAYAH','ALQUNFIDHAH','TABUK','JAZAN '], \n",
    "                 value = ['SEYHAT','SEYHAT','ALAIS','MARRAT','DHURMA','UMLUJ','RAMAH','TAYMAA','ALQUWAYIYAH','ALQUNFUDHAH','TABOUK','JAZAN'], \n",
    "             regex = False,inplace=True) "
   ]
  },
  {
   "cell_type": "code",
   "execution_count": 37,
   "metadata": {},
   "outputs": [
    {
     "name": "stdout",
     "output_type": "stream",
     "text": [
      "ALBERK is similar to ALBRK\n",
      "BISHA is similar to BISHAH\n",
      "BAQAA is similar to BAQA'A\n",
      "DAMAD is similar to DHAMAD\n",
      "SAMTAH is similar to SAMTA\n",
      "MADINA is similar to MADINAH\n",
      "MADINAH is similar to MADINA\n",
      "OYOUN ALJWA is similar to OYOUN ALJIWA\n",
      "SAKAKA is similar to SKAKA\n",
      "SKAKA is similar to SAKAKA\n",
      "SAMTA is similar to SAMTAH\n",
      "DHAMAD is similar to DAMAD\n",
      "BISHAH is similar to BISHA\n",
      "ALARIDHAH is similar to ALHARIDHAH\n",
      "ALBRK is similar to ALBARK\n",
      "ALBRK is similar to ALBERK\n",
      "ALBARK is similar to ALBRK\n",
      "ALHARIDHAH is similar to ALARIDHAH\n",
      "OYOUN ALJIWA is similar to OYOUN ALJWA\n",
      "BAQA'A is similar to BAQAA\n"
     ]
    }
   ],
   "source": [
    "similar('city_english',90)"
   ]
  },
  {
   "cell_type": "code",
   "execution_count": 38,
   "metadata": {},
   "outputs": [],
   "source": [
    "atms.replace(to_replace =['BISHA',\"BAQA'A\",'DAMAD','SAMTA','MADINA','SAKAKA','ALBERK','ALBARK'], \n",
    "                 value = ['BISHAH','BAQAA','DHAMAD','SAMTAH','MADINAH','SKAKA','ALBRK','ALBRK'], \n",
    "             regex = False,inplace=True) "
   ]
  },
  {
   "cell_type": "code",
   "execution_count": 39,
   "metadata": {},
   "outputs": [
    {
     "name": "stdout",
     "output_type": "stream",
     "text": [
      "ALMAGARDAH is similar to ALMAJARDAH\n",
      "ALQAYSOMAH is similar to ALKAYSOMAH\n",
      "UM ALSAHIK is similar to UM ALSAHEK\n",
      "BEER BIN HERMAS is similar to BIR BIN HERMAS\n",
      "OYOUN ALJWA is similar to OYOUN ALJIWA\n",
      "ALARIDHAH is similar to ALHARIDHAH\n",
      "ZAHRAN ALJANUB is similar to DHAHRAN ALJANUB\n",
      "ALMAJARDAH is similar to ALMAGARDAH\n",
      "BILJURASHI is similar to BALJURASHI\n",
      "ALNUAYRIYAH is similar to ALNAYRIAH\n",
      "ALNAYRIAH is similar to ALNUAYRIYAH\n",
      "UM ALSAHEK is similar to UM ALSAHIK\n",
      "ALKAYSOMAH is similar to ALQAYSOMAH\n",
      "BIR BIN HERMAS is similar to BEER BIN HERMAS\n",
      "BALJURASHI is similar to BILJURASHI\n",
      "ALHARIDHAH is similar to ALARIDHAH\n",
      "DHAHRAN ALJANUB is similar to ZAHRAN ALJANUB\n",
      "OYOUN ALJIWA is similar to OYOUN ALJWA\n"
     ]
    }
   ],
   "source": [
    "similar('city_english',89)"
   ]
  },
  {
   "cell_type": "code",
   "execution_count": 40,
   "metadata": {},
   "outputs": [],
   "source": [
    "atms.replace(to_replace =['ALMAGARDAH','ALKAYSOMAH','UM ALSAHEK','BIR BIN HERMAS','ZAHRAN ALJANUB','BILJURASHI','ALNAYRIAH'], \n",
    "                 value = ['ALMAJARDAH','ALQAYSOMAH','UM ALSAHIK','BEER BIN HERMAS','DHAHRAN ALJANUB','BALJURASHI','ALNUAYRIYAH'], \n",
    "             regex = False,inplace=True) "
   ]
  },
  {
   "cell_type": "code",
   "execution_count": 41,
   "metadata": {},
   "outputs": [
    {
     "name": "stdout",
     "output_type": "stream",
     "text": [
      "ALMAJARDAH is similar to ALMJARDH\n",
      "ABQIQ is similar to AQIQ\n",
      "BAQAA is similar to BAQA\n",
      "ABU ARISH is similar to ABO ARISH\n",
      "BADR is similar to BADER\n",
      "ALMEKHWAH is similar to ALMAKHWAH\n",
      "ALMEKHWAH is similar to ALMUKHWAH\n",
      "ALDIRIYAH is similar to ALDORIYAH\n",
      "RAMAH is similar to RMAH\n",
      "MUBARRAZ is similar to ALMUBARRAZ\n",
      "OYOUN ALJWA is similar to OYOUN ALJIWA\n",
      "RMAH is similar to RIMAH\n",
      "RMAH is similar to RAMAH\n",
      "ABO ARISH is similar to ABU ARISH\n",
      "ALARIDHAH is similar to ALHARIDHAH\n",
      "ALMUKHWAH is similar to ALMAKHWAH\n",
      "ALMUKHWAH is similar to ALMEKHWAH\n",
      "ASSULAYYIL is similar to SULAYYIL\n",
      "BAQA is similar to BAQAA\n",
      "ALQURYYAT is similar to ALQURAYAT\n",
      "ALMIDHNAB is similar to ALMITHNAB\n",
      "ALDORIYAH is similar to ALDIRIYAH\n",
      "ALMUBARRAZ is similar to MUBARRAZ\n",
      "BADER is similar to BADR\n",
      "RIMAH is similar to RMAH\n",
      "SULAYYIL is similar to ASSULAYYIL\n",
      "ALQURAYAT is similar to ALQURYYAT\n",
      "AQIQ is similar to AQAIQ\n",
      "AQIQ is similar to ABQIQ\n",
      "AQAIQ is similar to AQIQ\n",
      "ALMAKHWAH is similar to ALMUKHWAH\n",
      "ALMAKHWAH is similar to ALMEKHWAH\n",
      "ALHARIDHAH is similar to ALARIDHAH\n",
      "ALMJARDH is similar to ALMAJARDAH\n",
      "OYOUN ALJIWA is similar to OYOUN ALJWA\n",
      "ALMITHNAB is similar to ALMIDHNAB\n"
     ]
    }
   ],
   "source": [
    "similar('city_english',88)"
   ]
  },
  {
   "cell_type": "code",
   "execution_count": 42,
   "metadata": {},
   "outputs": [],
   "source": [
    "atms.replace(to_replace =['ALMJARDAH','ALMIDHNAB','ALMEKHWAH','AQAIQ','ALQURYYAT','ASSULAYYIL','RIMAH','BADR','MUBARRAZ'], \n",
    "                 value = ['ALMAJARDAH','ALMITHNAB','ALMAKHWAH','AQIQ','ALQURAYAT','SULAYYIL','RMAH','BADER','ALMUBARRAZ'], \n",
    "             regex = False,inplace=True) "
   ]
  },
  {
   "cell_type": "code",
   "execution_count": 43,
   "metadata": {},
   "outputs": [
    {
     "name": "stdout",
     "output_type": "stream",
     "text": [
      "ALMAJARDAH is similar to ALMJARDH\n",
      "ABQIQ is similar to AQIQ\n",
      "BAQAA is similar to BAQA\n",
      "ABU ARISH is similar to ABO ARISH\n",
      "ALMAKHWAH is similar to ALMUKHWAH\n",
      "ALDIRIYAH is similar to ALDORIYAH\n",
      "RAMAH is similar to RMAH\n",
      "OYOUN ALJWA is similar to OYOUN ALJIWA\n",
      "RMAH is similar to RAMAH\n",
      "ABO ARISH is similar to ABU ARISH\n",
      "ALARIDHAH is similar to ALHARIDHAH\n",
      "ALMUKHWAH is similar to ALMAKHWAH\n",
      "BAQA is similar to BAQAA\n",
      "ALDORIYAH is similar to ALDIRIYAH\n",
      "AQIQ is similar to ABQIQ\n",
      "ALHARIDHAH is similar to ALARIDHAH\n",
      "ALMJARDH is similar to ALMAJARDAH\n",
      "OYOUN ALJIWA is similar to OYOUN ALJWA\n"
     ]
    }
   ],
   "source": [
    "similar('city_english',88)"
   ]
  },
  {
   "cell_type": "code",
   "execution_count": 44,
   "metadata": {},
   "outputs": [],
   "source": [
    "atms.replace(to_replace =['ALMJARDH','BAQA','ABO ARISH','ALMUKHWAH','ALDORIYAH','RMAH','RAMAH'], \n",
    "                 value = ['ALMAJARDAH','BAQAA','ABU ARISH','ALMAKHWAH','ALDIRIYAH','RUMAH','RUMAH'], \n",
    "             regex = False,inplace=True) "
   ]
  },
  {
   "cell_type": "code",
   "execution_count": 45,
   "metadata": {},
   "outputs": [
    {
     "name": "stdout",
     "output_type": "stream",
     "text": [
      "ALMANDIQ is similar to ALMANDAQ\n",
      "ABQIQ is similar to AQIQ\n",
      "ALJUBEAL is similar to ALJUBAIL\n",
      "ALJUBEAL is similar to ALJUBAYL\n",
      "ALKHUBAR is similar to ALKHOBAR\n",
      "DHAHRAN is similar to ALDHAHRAN\n",
      "ALSHAMLY is similar to ALSHAMLI\n",
      "ALARDAH is similar to ALARIDHAH\n",
      "MADINAH is similar to ALMADINAH\n",
      "ALBADAYIE is similar to ALBADIE\n",
      "ALKHOBRA is similar to ALKHOBAR\n",
      "BUREIDAH is similar to BURAIDAH\n",
      "ALBADIE is similar to ALBADAYIE\n",
      "HOTIT BANI TAMIM is similar to HOTAT - BANI TAMIM\n",
      "BURAIDAH is similar to BURAYDAH\n",
      "BURAIDAH is similar to BUREIDAH\n",
      "OYOUN ALJWA is similar to OYOUN ALJIWA\n",
      "ALSHAMLI is similar to ALSHAMLY\n",
      "ALHAFOUF is similar to ALHAFOOF\n",
      "ALMANDAQ is similar to ALMANDIQ\n",
      "ALKHOBAR is similar to ALKHOBRA\n",
      "ALKHOBAR is similar to ALKHUBAR\n",
      "ALARIDHAH is similar to ALHARIDHAH\n",
      "ALARIDHAH is similar to ALARDAH\n",
      "ALMUZAHIMIYAH is similar to ALMUZAHMIYYA\n",
      "ALHAFOOF is similar to ALHAFOUF\n",
      "ALDHAHRAN is similar to DHAHRAN\n",
      "BURAYDAH is similar to BURAIDAH\n",
      "ALJUBAYL is similar to ALJUBAIL\n",
      "ALJUBAYL is similar to ALJUBEAL\n",
      "ALMADINAH is similar to MADINAH\n",
      "ALMUZAHMIYYA is similar to ALMUZAHIMIYAH\n",
      "HOTAT - BANI TAMIM is similar to HOTIT BANI TAMIM\n",
      "ALJUBAIL is similar to ALJUBAYL\n",
      "ALJUBAIL is similar to ALJUBEAL\n",
      "AQIQ is similar to ABQIQ\n",
      "ALHARIDHAH is similar to ALARIDHAH\n",
      "OYOUN ALJIWA is similar to OYOUN ALJWA\n"
     ]
    }
   ],
   "source": [
    "similar('city_english',87)"
   ]
  },
  {
   "cell_type": "code",
   "execution_count": 46,
   "metadata": {},
   "outputs": [],
   "source": [
    "atms.replace(to_replace =['ALJUBEAL','ALJUBAYL','BURAYDAH','DHAHRAN','ALHAFOUF','ALMUZAHMIYYA','ALKHOBAR','ALMANDIQ','ALSHAMLY','BUREIDAH','HOTAT - BANI TAMIM','HOTIT BANI TAMIM'], \n",
    "                 value = ['ALJUBAIL','ALJUBAIL','BURAIDAH','ALDHAHRAN','ALHAFOOF','ALMUZAHIMIYAH','ALKHUBAR','ALMANDAQ','ALSHAMLI','BURAIDAH','HOTAT BANI TAMIM','HOTAT BANI TAMIM'], \n",
    "             regex = False,inplace=True) "
   ]
  },
  {
   "cell_type": "code",
   "execution_count": 47,
   "metadata": {},
   "outputs": [
    {
     "name": "stdout",
     "output_type": "stream",
     "text": [
      "ABQIQ is similar to AQIQ\n",
      "ALARDAH is similar to ALARIDHAH\n",
      "MADINAH is similar to ALMADINAH\n",
      "ALBADAYIE is similar to ALBADIE\n",
      "ALBADIE is similar to ALBADAYIE\n",
      "HOTAT BANI TAMIM is similar to HAWTAT BANI TAMIM\n",
      "OYOUN ALJWA is similar to OYOUN ALJIWA\n",
      "ALARIDHAH is similar to ALHARIDHAH\n",
      "ALARIDHAH is similar to ALARDAH\n",
      "HAWTAT BANI TAMIM is similar to HOTAT BANI TAMIM\n",
      "ALMADINAH is similar to MADINAH\n",
      "AQIQ is similar to ABQIQ\n",
      "ALHARIDHAH is similar to ALARIDHAH\n",
      "OYOUN ALJIWA is similar to OYOUN ALJWA\n"
     ]
    }
   ],
   "source": [
    "similar('city_english',87)"
   ]
  },
  {
   "cell_type": "code",
   "execution_count": 48,
   "metadata": {},
   "outputs": [],
   "source": [
    "atms.replace(to_replace =['MADINAH','HAWTAT BANI TAMIM'], \n",
    "                 value = ['ALMADINAH','HOTAT BANI TAMIM'], \n",
    "             regex = False,inplace=True) "
   ]
  },
  {
   "cell_type": "code",
   "execution_count": 49,
   "metadata": {},
   "outputs": [
    {
     "name": "stdout",
     "output_type": "stream",
     "text": [
      "ABQIQ is similar to AQIQ\n",
      "RAS TANNOURAH is similar to RAS TANURA\n",
      "ALARDAH is similar to ALARIDHAH\n",
      "ALBADAYIE is similar to ALBADIE\n",
      "ALNABHANYAH is similar to ALNABHABIYAH\n",
      "ALBADIE is similar to ALBADAYIE\n",
      "OYOUN ALJWA is similar to OYOUN ALJIWA\n",
      "AHAD ALMESARHA is similar to AHAD ALMASARIHAH\n",
      "AHAD ALMASARIHAH is similar to AHAD ALMESARHA\n",
      "ALARIDHAH is similar to ALHARIDHAH\n",
      "ALARIDHAH is similar to ALARDAH\n",
      "ALNABHABIYAH is similar to ALNABHANYAH\n",
      "RAS TANURA is similar to RAS TANNOURAH\n",
      "AQIQ is similar to ABQIQ\n",
      "ALHARIDHAH is similar to ALARIDHAH\n",
      "OYOUN ALJIWA is similar to OYOUN ALJWA\n"
     ]
    }
   ],
   "source": [
    "similar('city_english',86)"
   ]
  },
  {
   "cell_type": "code",
   "execution_count": 50,
   "metadata": {},
   "outputs": [],
   "source": [
    "atms.replace(to_replace =['RAS TANURA','ALARDAH','AHAD ALMESARHA','ALNABHABIYAH'], \n",
    "                 value = ['RAS TANNOURAH','ALARIDHAH','AHAD ALMASARIHAH','ALNABHANYAH'], \n",
    "             regex = False,inplace=True) "
   ]
  },
  {
   "cell_type": "code",
   "execution_count": 51,
   "metadata": {},
   "outputs": [
    {
     "name": "stdout",
     "output_type": "stream",
     "text": [
      "DAWMAT ALJANDL is similar to DUMAT ALJANDAL\n",
      "ALAMWAH is similar to ALADWAH\n",
      "ALHARJA is similar to ALKHARJ\n",
      "ALNAMAS is similar to ANNAMAS\n",
      "ALNAQEA is similar to ALNAQRA\n",
      "ALJUBAIL is similar to JUBAIL\n",
      "ALKHUBAR is similar to KHUBAR\n",
      "ALADWAH is similar to ALAMWAH\n",
      "ALEDABI is similar to ALIDABI\n",
      "ALHANAKYAH is similar to ALHINAKIYAH\n",
      "ALATAWALAH is similar to ALARTAWAYAH\n",
      "ALKAMEL is similar to ALKAMIL\n",
      "ALQARIN is similar to BALQARN\n",
      "ALNAQRA is similar to ALNAQEA\n",
      "ALAFLAG is similar to ALAFLAJ\n",
      "ALARTAWAYAH is similar to ALARTAWIAH\n",
      "ALARTAWAYAH is similar to ALATAWALAH\n",
      "ALBEJADYAH is similar to ALBJADEYYAH\n",
      "ALKHARJ is similar to ALHARJA\n",
      "ALBADA is similar to ALBADAYA\n",
      "KHUBAR is similar to ALKHUBAR\n",
      "DUMAT ALJANDAL is similar to DAWMAT ALJANDL\n",
      "JUBAIL is similar to ALJUBAIL\n",
      "ALIDABI is similar to ALEDABI\n",
      "ANNAMAS is similar to ALNAMAS\n",
      "ALAFLAJ is similar to ALAFLAG\n",
      "KHULAYS is similar to KHULAIS\n",
      "ALHINAKIYAH is similar to ALHANAKYAH\n",
      "BALQARN is similar to ALQARIN\n",
      "ALBADAYA is similar to ALBADA\n",
      "KHULAIS is similar to KHULAYS\n",
      "ALARTAWIAH is similar to ALARTAWAYAH\n",
      "ALBJADEYYAH is similar to ALBEJADYAH\n",
      "ALKAMIL is similar to ALKAMEL\n"
     ]
    }
   ],
   "source": [
    "similar('city_english',86,87)"
   ]
  },
  {
   "cell_type": "code",
   "execution_count": 52,
   "metadata": {},
   "outputs": [],
   "source": [
    "atms.replace(to_replace =['ALKAMEL','ALBEJADYAH','ALARTAWIAH','KHULAYS','ALHINAKIYAH','ALAFLAG','ANNAMAS','ALEDABI','JUBAIL','DUMAT ALJANDAL','KHUBAR'], \n",
    "                 value = ['ALKAMIL','ALBJADEYYAH','ALARTAWAYAH','KHULAIS','ALHANAKYAH','ALAFLAJ','ALNAMAS','ALIDABI','ALJUBAIL','DAWMAT ALJANDL','ALKHUBAR'], \n",
    "             regex = False,inplace=True) "
   ]
  },
  {
   "cell_type": "code",
   "execution_count": 53,
   "metadata": {},
   "outputs": [
    {
     "name": "stdout",
     "output_type": "stream",
     "text": [
      "ALMAJARDAH is similar to ALMAJMAAH\n",
      "RIJAL ALMA is similar to RAJALALMA\n",
      "SARAT OBEADAH is similar to SARAT ABIEDAH\n",
      "ABU ARISH is similar to ABU AREESH\n",
      "ALMAJMAAH is similar to ALMAJARDAH\n",
      "RAJALALMA is similar to RIJAL ALMA\n",
      "ABU AREESH is similar to ABU ARISH\n"
     ]
    }
   ],
   "source": [
    "similar('city_english',84,86)"
   ]
  },
  {
   "cell_type": "code",
   "execution_count": 54,
   "metadata": {},
   "outputs": [],
   "source": [
    "atms.replace(to_replace =['SARAT ABIEDAH','RAJALALMA','ABU ARISH'], \n",
    "                 value = ['SARAT OBEADAH','RIJAL ALMA','ABU AREESH'], \n",
    "             regex = False,inplace=True) "
   ]
  },
  {
   "cell_type": "code",
   "execution_count": 55,
   "metadata": {},
   "outputs": [
    {
     "name": "stdout",
     "output_type": "stream",
     "text": [
      "ALBAHA is similar to ALAHSA\n",
      "ALBAHA is similar to ALBADA\n",
      "ALMAJARDAH is similar to ALMAJMAAH\n",
      "TUREEB is similar to TAREEB\n",
      "TUREEB is similar to TUREEF\n",
      "ALQATIF is similar to QATIF\n",
      "QARYAH is similar to DARYAH\n",
      "SALWAH is similar to ALWAJH\n",
      "ALHAIT is similar to ALGHAT\n",
      "ALDARB is similar to ALHDAR\n",
      "ALAIS is similar to ALRAYIS\n",
      "ALRAYIS is similar to ALAIS\n",
      "RABEGH is similar to RABIGH\n",
      "THEWAL is similar to THUWAL\n",
      "TUREEF is similar to TUREEB\n",
      "ALRASS is similar to ARRASS\n",
      "DARYAH is similar to QARYAH\n",
      "ALGHAT is similar to ALHAIT\n",
      "ALHDAR is similar to ALDARB\n",
      "ALKHARJ is similar to KHARJ\n",
      "ALMAJMAAH is similar to ALMAJARDAH\n",
      "ALRAIN is similar to ALRAYN\n",
      "ALZULFI is similar to ZULFI\n",
      "THADIK is similar to THADIQ\n",
      "TUMAIR is similar to TUMAER\n",
      "ALBADA is similar to ALBAHA\n",
      "ALWAJH is similar to SALWAH\n",
      "KHARJ is similar to ALKHARJ\n",
      "THADIQ is similar to THADIK\n",
      "ZULFI is similar to ALZULFI\n",
      "ALAHSA is similar to ALBAHA\n",
      "QATIF is similar to ALQATIF\n",
      "RABIGH is similar to RABEGH\n",
      "ALRAYN is similar to ALRAIN\n",
      "ARRASS is similar to ALRASS\n",
      "HOFUF is similar to ALHOFUF\n",
      "ALHOFUF is similar to HOFUF\n",
      "THUWAL is similar to THEWAL\n",
      "TUMAER is similar to TUMAIR\n",
      "TAREEB is similar to TUREEB\n"
     ]
    }
   ],
   "source": [
    "similar('city_english',83,86)"
   ]
  },
  {
   "cell_type": "code",
   "execution_count": 56,
   "metadata": {},
   "outputs": [],
   "source": [
    "atms.replace(to_replace =['TAREEB','TUMAER','THEWAL','HOFUF','ARRASS','ALRAIN','RABEGH','QATIF','ZULFI','THADIK','KHARJ'], \n",
    "                 value = ['TUREEB','TUMAIR','THUWAL','ALHOFUF','ALRASS','ALRAYN','RABIGH','ALQATIF','ALZULFI','THADIQ','ALKHARJ'], \n",
    "             regex = False,inplace=True) "
   ]
  },
  {
   "cell_type": "code",
   "execution_count": 57,
   "metadata": {},
   "outputs": [
    {
     "name": "stdout",
     "output_type": "stream",
     "text": [
      "ALQORYAT is similar to ALQURAYAT\n",
      "ALRAFEAH is similar to ALRABEAIH\n",
      "ALTHOQBA is similar to ALTHUQBAH\n",
      "ALGHAZALAH is similar to GAZALAH\n",
      "ALBADAYIE is similar to ALBADAYA\n",
      "ALBEAKIRYAH is similar to ALBUKIRIYAH\n",
      "ALBEAKIRYAH is similar to ALBEKERIYAH\n",
      "ALRABEAIH is similar to ALRAFEAH\n",
      "ALMAJMAAH is similar to MAJMA'AH\n",
      "ALOUUANAH is similar to ALUYANAH\n",
      "ALQUWAYIYAH is similar to ALNUAYRIYAH\n",
      "MAJMA'AH is similar to ALMAJMAAH\n",
      "GAZALAH is similar to ALGHAZALAH\n",
      "ALUYANAH is similar to ALOUUANAH\n",
      "ALQURAYAT is similar to ALQORYAT\n",
      "ALNUAYRIYAH is similar to ALQUWAYIYAH\n",
      "ALBEKERIYAH is similar to ALBUKIRIYAH\n",
      "ALBEKERIYAH is similar to ALBEAKIRYAH\n",
      "ALBADAYA is similar to ALBADAYIE\n",
      "ALTHUQBAH is similar to ALTHOQBA\n",
      "ALBUKIRIYAH is similar to ALBEKERIYAH\n",
      "ALBUKIRIYAH is similar to ALBEAKIRYAH\n"
     ]
    }
   ],
   "source": [
    "similar('city_english',82,83)"
   ]
  },
  {
   "cell_type": "code",
   "execution_count": 58,
   "metadata": {},
   "outputs": [],
   "source": [
    "atms.replace(to_replace =['ALBEKERIYAH','ALBEAKIRYAH','ALTHOQBA','ALBADAYA','ALQORYAT','ALOUUANAH','GHAZALAH','GAZALAH',\"MAJMA'AH\",'ALBADIE'], \n",
    "                 value = ['ALBUKIRIYAH','ALBUKIRIYAH','ALTHUQBAH','ALBADAYIE','ALQURAYAT','ALUYANAH','ALGHAZALAH','ALGHAZALAH','ALMAJMAAH','ALBADAYIE'], \n",
    "             regex = False,inplace=True) "
   ]
  },
  {
   "cell_type": "code",
   "execution_count": 59,
   "metadata": {},
   "outputs": [
    {
     "name": "stdout",
     "output_type": "stream",
     "text": [
      "ALBAHA is similar to ABHA\n",
      "ALEISAWAYAH is similar to AISAWIYAH\n",
      "ABHA is similar to ALBAHA\n",
      "ALAMWAH is similar to ALUTAMAH\n",
      "ALQAHMA is similar to BALAHMAR\n",
      "BALAHMAR is similar to ALQAHMA\n",
      "BARIQ is similar to BQAIQ\n",
      "BARIQ is similar to BAREQ\n",
      "KHAYBR ALGANOUB is similar to THARAN ALGANOUB\n",
      "THARAN ALGANOUB is similar to DHAHRAN ALJANUB\n",
      "THARAN ALGANOUB is similar to KHAYBR ALGANOUB\n",
      "ABQIQ is similar to BQAIQ\n",
      "ALKHAFJI is similar to ALKHARJ\n",
      "ALKHUBAR is similar to ALKHARJ\n",
      "ALNEARYAH is similar to ALNUAYRIYAH\n",
      "ALROQAIY is similar to ALRUQAI\n",
      "ALHAIT is similar to ALHADITHA\n",
      "ALSHANAN is similar to ALSAHNA\n",
      "HAIL is similar to MHAYIL\n",
      "JAZAN is similar to JEZAN\n",
      "JAZAN is similar to JIZAN\n",
      "SABYA is similar to SABIA\n",
      "UHID ALMASARHA is similar to AHAD ALMASARIHAH\n",
      "ALOLA is similar to ALULA\n",
      "ALUTAMAH is similar to ALAMWAH\n",
      "YANBU ALBAHR is similar to YANBU ALNAKHL\n",
      "YANBU ALNAKHL is similar to YANBU ALBAHR\n",
      "ALJAMOUM is similar to ALJOMOM\n",
      "TAIF is similar to TURAIF\n",
      "TAIF is similar to ALTAIF\n",
      "SHARORA is similar to SHARURAH\n",
      "ARAR is similar to ARA'AR\n",
      "ALDIRIYAH is similar to ALBUKIRIYAH\n",
      "ALBADAYIE is similar to BADAIE\n",
      "ALBADAYIE is similar to ALBADA\n",
      "ALBUKIRIYAH is similar to BUKAIRIAH\n",
      "ALBUKIRIYAH is similar to ALDIRIYAH\n",
      "ALKHOBRA is similar to ALKABRA\n",
      "ALRASS is similar to RASS\n",
      "ALDAWADMI is similar to DAWDMI\n",
      "ALJILAH is similar to ALJELLAH\n",
      "ALJILAH is similar to ALJBYLAH\n",
      "ALKHARJ is similar to ALKHUBAR\n",
      "ALKHARJ is similar to ALKHAFJI\n",
      "ALMEAZAHMYAH is similar to ALMUZAHIMIYAH\n",
      "ALSAHNA is similar to ALSHANAN\n",
      "ALBADA is similar to ALBADAYIE\n",
      "DOUBA is similar to DHUBA\n",
      "BUKAIRIAH is similar to ALBUKIRIYAH\n",
      "RASS is similar to ALRASS\n",
      "BADAIE is similar to ALBADAYIE\n",
      "AHAD ALMASARIHAH is similar to UHID ALMASARHA\n",
      "ALKABRA is similar to ALKHOBRA\n",
      "SABIA is similar to SABYA\n",
      "DAWDMI is similar to ALDAWADMI\n",
      "AHAD RAFIDAH is similar to AHAD RIFAYDAH\n",
      "DHAHRAN ALJANUB is similar to THARAN ALGANOUB\n",
      "AHAD RIFAYDAH is similar to AHAD RAFIDAH\n",
      "MHAYIL is similar to HAIL\n",
      "BAREQ is similar to BARIQ\n",
      "ALTAIF is similar to TAIF\n",
      "ALMUZAHIMIYAH is similar to ALMEAZAHMYAH\n",
      "ALJBYLAH is similar to ALJILAH\n",
      "ALULA is similar to ALOLA\n",
      "ALNUAYRIYAH is similar to ALNEARYAH\n",
      "SHARURAH is similar to SHARORA\n",
      "BLLHAMR is similar to BLLSAMAR\n",
      "BLLSAMAR is similar to BLLHAMR\n",
      "ALJOMOM is similar to ALJAMOUM\n",
      "ALJELLAH is similar to ALJILAH\n",
      "BQAIQ is similar to ABQIQ\n",
      "BQAIQ is similar to BARIQ\n",
      "ALRUQAI is similar to ALROQAIY\n",
      "ALHADITHA is similar to ALHAIT\n",
      "ARA'AR is similar to ARAR\n",
      "DHUBA is similar to DOUBA\n",
      "TURAIF is similar to TAIF\n",
      "JIZAN is similar to JEZAN\n",
      "JIZAN is similar to JAZAN\n",
      "AISAWIYAH is similar to ALEISAWAYAH\n",
      "JEZAN is similar to JIZAN\n",
      "JEZAN is similar to JAZAN\n"
     ]
    }
   ],
   "source": [
    "similar('city_english',80,82)"
   ]
  },
  {
   "cell_type": "code",
   "execution_count": 60,
   "metadata": {},
   "outputs": [],
   "source": [
    "atms.replace(to_replace =['JEZAN','AISAWIYAH','DOUBA',\"ARA'AR\",'ALRUQAI','ALJOMOM','ALJILAH','SHARORA','ALNEARYAH','ALOLA'], \n",
    "                 value = ['JIZAN','ALEISAWAYAH','DHUBA','ARAR','ALROQAIY','ALJAMOUM','ALJELLAH','SHARURAH','ALNUAYRIYAH','ALULA'], \n",
    "             regex = False,inplace=True) "
   ]
  },
  {
   "cell_type": "code",
   "execution_count": 61,
   "metadata": {},
   "outputs": [
    {
     "name": "stdout",
     "output_type": "stream",
     "text": [
      "ALBAHA is similar to ABHA\n",
      "ABHA is similar to ALBAHA\n",
      "ALAMWAH is similar to ALUTAMAH\n",
      "ALQAHMA is similar to BALAHMAR\n",
      "BALAHMAR is similar to ALQAHMA\n",
      "BARIQ is similar to BQAIQ\n",
      "BARIQ is similar to BAREQ\n",
      "KHAYBR ALGANOUB is similar to THARAN ALGANOUB\n",
      "THARAN ALGANOUB is similar to DHAHRAN ALJANUB\n",
      "THARAN ALGANOUB is similar to KHAYBR ALGANOUB\n",
      "ABQIQ is similar to BQAIQ\n",
      "ALKHAFJI is similar to ALKHARJ\n",
      "ALKHUBAR is similar to ALKHARJ\n",
      "ALHAIT is similar to ALHADITHA\n",
      "ALSHANAN is similar to ALSAHNA\n",
      "HAIL is similar to MHAYIL\n",
      "JAZAN is similar to JIZAN\n",
      "SABYA is similar to SABIA\n",
      "UHID ALMASARHA is similar to AHAD ALMASARIHAH\n",
      "ALUTAMAH is similar to ALAMWAH\n",
      "YANBU ALBAHR is similar to YANBU ALNAKHL\n",
      "YANBU ALNAKHL is similar to YANBU ALBAHR\n",
      "TAIF is similar to TURAIF\n",
      "TAIF is similar to ALTAIF\n",
      "ALDIRIYAH is similar to ALBUKIRIYAH\n",
      "ALBADAYIE is similar to BADAIE\n",
      "ALBADAYIE is similar to ALBADA\n",
      "ALBUKIRIYAH is similar to BUKAIRIAH\n",
      "ALBUKIRIYAH is similar to ALDIRIYAH\n",
      "ALKHOBRA is similar to ALKABRA\n",
      "ALRASS is similar to RASS\n",
      "ALDAWADMI is similar to DAWDMI\n",
      "ALKHARJ is similar to ALKHUBAR\n",
      "ALKHARJ is similar to ALKHAFJI\n",
      "ALMEAZAHMYAH is similar to ALMUZAHIMIYAH\n",
      "ALSAHNA is similar to ALSHANAN\n",
      "ALBADA is similar to ALBADAYIE\n",
      "BUKAIRIAH is similar to ALBUKIRIYAH\n",
      "RASS is similar to ALRASS\n",
      "BADAIE is similar to ALBADAYIE\n",
      "AHAD ALMASARIHAH is similar to UHID ALMASARHA\n",
      "ALKABRA is similar to ALKHOBRA\n",
      "SABIA is similar to SABYA\n",
      "DAWDMI is similar to ALDAWADMI\n",
      "AHAD RAFIDAH is similar to AHAD RIFAYDAH\n",
      "DHAHRAN ALJANUB is similar to THARAN ALGANOUB\n",
      "AHAD RIFAYDAH is similar to AHAD RAFIDAH\n",
      "MHAYIL is similar to HAIL\n",
      "BAREQ is similar to BARIQ\n",
      "ALTAIF is similar to TAIF\n",
      "ALMUZAHIMIYAH is similar to ALMEAZAHMYAH\n",
      "BLLHAMR is similar to BLLSAMAR\n",
      "BLLSAMAR is similar to BLLHAMR\n",
      "BQAIQ is similar to ABQIQ\n",
      "BQAIQ is similar to BARIQ\n",
      "ALHADITHA is similar to ALHAIT\n",
      "TURAIF is similar to TAIF\n",
      "JIZAN is similar to JAZAN\n"
     ]
    }
   ],
   "source": [
    "similar('city_english',80,82)"
   ]
  },
  {
   "cell_type": "code",
   "execution_count": 62,
   "metadata": {},
   "outputs": [],
   "source": [
    "atms.replace(to_replace =['ABQIQ','ALMEAZAHMYAH','TAIF','BAREQ','AHAD RAFIDAH','THARAN ALGANOUB','DAWDMI','SABIA','ALKABRA','UHID ALMASARHA','BADAIE','RASS','BUKAIRIAH'], \n",
    "                 value = ['BQAIQ','ALMUZAHIMIYAH','ALTAIF','BARIQ','AHAD RIFAYDAH','DHAHRAN ALJANUB','ALDAWADMI','SABYA','ALKHOBRA','AHAD ALMASARIHAH','ALBADAYIE','ALRASS','ALBUKIRIYAH'], \n",
    "             regex = False,inplace=True) "
   ]
  },
  {
   "cell_type": "code",
   "execution_count": 63,
   "metadata": {},
   "outputs": [
    {
     "name": "stdout",
     "output_type": "stream",
     "text": [
      "ALBAHA is similar to ABHA\n",
      "ABHA is similar to ALBAHA\n",
      "ALAMWAH is similar to ALUTAMAH\n",
      "ALQAHMA is similar to BALAHMAR\n",
      "BALAHMAR is similar to ALQAHMA\n",
      "BARIQ is similar to BQAIQ\n",
      "BQAIQ is similar to BARIQ\n",
      "ALKHAFJI is similar to ALKHARJ\n",
      "ALKHUBAR is similar to ALKHARJ\n",
      "ALHAIT is similar to ALHADITHA\n",
      "ALSHANAN is similar to ALSAHNA\n",
      "HAIL is similar to MHAYIL\n",
      "JAZAN is similar to JIZAN\n",
      "ALUTAMAH is similar to ALAMWAH\n",
      "YANBU ALBAHR is similar to YANBU ALNAKHL\n",
      "YANBU ALNAKHL is similar to YANBU ALBAHR\n",
      "ALDIRIYAH is similar to ALBUKIRIYAH\n",
      "ALBADAYIE is similar to ALBADA\n",
      "ALBUKIRIYAH is similar to ALDIRIYAH\n",
      "ALKHARJ is similar to ALKHUBAR\n",
      "ALKHARJ is similar to ALKHAFJI\n",
      "ALSAHNA is similar to ALSHANAN\n",
      "ALBADA is similar to ALBADAYIE\n",
      "MHAYIL is similar to HAIL\n",
      "BLLHAMR is similar to BLLSAMAR\n",
      "BLLSAMAR is similar to BLLHAMR\n",
      "ALHADITHA is similar to ALHAIT\n",
      "JIZAN is similar to JAZAN\n"
     ]
    }
   ],
   "source": [
    "similar('city_english',80,82)"
   ]
  },
  {
   "cell_type": "code",
   "execution_count": 64,
   "metadata": {},
   "outputs": [],
   "source": [
    "atms.replace(to_replace =['YANBU ALNAKHL','YANBU ALBAHR'], \n",
    "                 value = ['YANBU','YANBU'], \n",
    "             regex = False,inplace=True) "
   ]
  },
  {
   "cell_type": "code",
   "execution_count": 65,
   "metadata": {},
   "outputs": [
    {
     "name": "stdout",
     "output_type": "stream",
     "text": [
      "HAFR ALBATIN is similar to HAFER ALBATEN M.\n",
      "HAFER ALBATEN M. is similar to HAFR ALBATIN\n"
     ]
    }
   ],
   "source": [
    "similar('city_english',79,80)"
   ]
  },
  {
   "cell_type": "code",
   "execution_count": 66,
   "metadata": {},
   "outputs": [],
   "source": [
    "atms.replace(to_replace =['HAFER ALBATEN M.'], \n",
    "                 value = ['HAFR ALBATIN'], \n",
    "             regex = False,inplace=True) "
   ]
  },
  {
   "cell_type": "code",
   "execution_count": 67,
   "metadata": {},
   "outputs": [
    {
     "name": "stdout",
     "output_type": "stream",
     "text": [
      "ALFARASHA is similar to ALFAWARAH\n",
      "ALHAFEERAH is similar to ALRAFEAH\n",
      "ALRAFEAH is similar to ALHAFEERAH\n",
      "BEECH JAZAN is similar to BIESH -JAZAN\n",
      "ALMADINAH is similar to ALMELADAH\n",
      "ALFAWARAH is similar to ALQOWARAH\n",
      "ALFAWARAH is similar to ALFARASHA\n",
      "ALMELADAH is similar to ALMADINAH\n",
      "ALQOWARAH is similar to ALFAWARAH\n",
      "ALMUZAHIMIYAH is similar to MUZAHMEYAH\n",
      "MUZAHMEYAH is similar to ALMUZAHIMIYAH\n",
      "BIESH -JAZAN is similar to BEECH JAZAN\n",
      "MHAIL ASEER is similar to MAHAYIL ASIR\n",
      "MAHAYIL ASIR is similar to MHAIL ASEER\n"
     ]
    }
   ],
   "source": [
    "similar('city_english',78,80)"
   ]
  },
  {
   "cell_type": "code",
   "execution_count": 68,
   "metadata": {},
   "outputs": [],
   "source": [
    "atms.replace(to_replace =['MAHAYIL ASIR','MHAIL ASEER','MHAIL','BIESH -JAZAN','BEECH JAZAN','MUZAHMEYAH'], \n",
    "                 value = ['MAHAYIL','MAHAYIL','MAHAYIL','BEESH','BEESH','ALMUZAHIMIYAH'], \n",
    "             regex = False,inplace=True) "
   ]
  },
  {
   "cell_type": "code",
   "execution_count": 69,
   "metadata": {},
   "outputs": [
    {
     "name": "stdout",
     "output_type": "stream",
     "text": [
      "ALBAHA is similar to ALSAHNA\n",
      "ALBAHA is similar to ALKAHFA\n",
      "ALBAHA is similar to ALQAHMA\n",
      "ALJOUF is similar to ALHOFUF\n",
      "ALAMWAH is similar to ALWAJH\n",
      "ALAMWAH is similar to ALMAHD\n",
      "ALAMWAH is similar to SALWAH\n",
      "ALFARASHA is similar to ALFAWARAH\n",
      "ALHAFEERAH is similar to ALRAFEAH\n",
      "ALHARJA is similar to ALHDAR\n",
      "ALHEMA is similar to ALQAHMA\n",
      "ALQAHMA is similar to ALAHSA\n",
      "ALQAHMA is similar to ALHEMA\n",
      "ALQAHMA is similar to ALBAHA\n",
      "WADY HASBAL is similar to WADI BN HASHBAL\n",
      "ALQATIF is similar to ALTAIF\n",
      "ALRAFEAH is similar to ALHAFEERAH\n",
      "SALWAH is similar to ALADWAH\n",
      "SALWAH is similar to ALAMWAH\n",
      "ALADWAH is similar to ALWAJH\n",
      "ALADWAH is similar to ALBADA\n",
      "ALADWAH is similar to SALWAH\n",
      "ALAJFUR is similar to ALJAFR\n",
      "ALHAIT is similar to ALHARIQ\n",
      "ALKAHFA is similar to ALAHSA\n",
      "ALKAHFA is similar to ALBAHA\n",
      "SAMEERA is similar to NAMERA\n",
      "ALDARB is similar to AD-DARB\n",
      "ALDARB is similar to ALIDABI\n",
      "ALIDABI is similar to ALDARB\n",
      "ALMAHD is similar to ALAMWAH\n",
      "ALRAYIS is similar to ALRAYN\n",
      "ALRAYIS is similar to ALRASS\n",
      "KHAYBAR is similar to KHABRA\n",
      "KHAYBAR is similar to KHOBAR\n",
      "ALMADINAH is similar to ALMELADAH\n",
      "ALLEATH is similar to ALLITH\n",
      "ALWASQA is similar to ALAHSA\n",
      "NAMERA is similar to SAMEERA\n",
      "ALTAIF is similar to ALQATIF\n",
      "ALASYAH is similar to ALAHSA\n",
      "ALFAWARAH is similar to ALQOWARAH\n",
      "ALFAWARAH is similar to ALFARASHA\n",
      "ALMELADAH is similar to ALMADINAH\n",
      "ALQOWARAH is similar to ALFAWARAH\n",
      "ALRASS is similar to ALHASSA\n",
      "ALRASS is similar to ALRAYIS\n",
      "DARYAH is similar to DERYIAH\n",
      "ONAYZA is similar to UNAYZAH\n",
      "ONAYZA is similar to ONAIZAH\n",
      "OQLIT ALSOUQOR is similar to AQLAT ALSQOR\n",
      "ALDALM is similar to ALDELAM\n",
      "ALHARIQ is similar to ALHDAR\n",
      "ALHARIQ is similar to ALHAIT\n",
      "ALHDAR is similar to ALKHARJ\n",
      "ALHDAR is similar to ALHARIQ\n",
      "ALHDAR is similar to ALHARJA\n",
      "ALKHARJ is similar to ALHDAR\n",
      "ALRAYN is similar to ALRAYIS\n",
      "ALSAHNA is similar to ALBAHA\n",
      "HALBAN is similar to DAHABAN\n",
      "SHAQRAA is similar to SHAGRA\n",
      "ALBADA is similar to ALADWAH\n",
      "ALWAJH is similar to ALADWAH\n",
      "ALWAJH is similar to ALAMWAH\n",
      "KHOBAR is similar to KHAYBAR\n",
      "ONAIZAH is similar to ONAYZA\n",
      "DERYIAH is similar to DARYAH\n",
      "KHABRA is similar to KHAYBAR\n",
      "ALHASSA is similar to ALAHSA\n",
      "ALHASSA is similar to ALRASS\n",
      "SHAGRA is similar to SHAQRAA\n",
      "ALAHSA is similar to ALHASSA\n",
      "ALAHSA is similar to ALSAHNA\n",
      "ALAHSA is similar to ALWASQA\n",
      "ALAHSA is similar to ALKAHFA\n",
      "ALAHSA is similar to ALQAHMA\n",
      "AD-DARB is similar to ALDARB\n",
      "WADI BN HASHBAL is similar to WADY HASBAL\n",
      "UNAYZAH is similar to ONAYZA\n",
      "AQLAT ALSQOR is similar to OQLIT ALSOUQOR\n",
      "ALHOFUF is similar to ALJOUF\n",
      "ALLITH is similar to ALLEATH\n",
      "DAHABAN is similar to HALBAN\n",
      "ALDELAM is similar to ALDALM\n",
      "ALJAFR is similar to ALAJFUR\n"
     ]
    }
   ],
   "source": [
    "similar('city_english',77,80)"
   ]
  },
  {
   "cell_type": "code",
   "execution_count": 70,
   "metadata": {},
   "outputs": [],
   "source": [
    "atms.replace(to_replace =['ALDELAM','ALLITH','AQLAT ALSQOR','WADY HASBAL','AD-DARB','ALHASSA','SHAGRA','ONAYZA'], \n",
    "                 value = ['ALDALM','ALLEATH','OQLIT ALSOUQOR','WADI BN HASHBAL','ALDARB','ALAHSA','SHAQRAA','ONAIZAH'], \n",
    "             regex = False,inplace=True) "
   ]
  },
  {
   "cell_type": "code",
   "execution_count": 71,
   "metadata": {},
   "outputs": [
    {
     "name": "stdout",
     "output_type": "stream",
     "text": [
      "JASH-TATHLETH is similar to TATHLETH\n",
      "TATHLETH is similar to JASH-TATHLETH\n",
      "ALHANAKYAH is similar to ALNABHANYAH\n",
      "ALNABHANYAH is similar to ALHANAKYAH\n"
     ]
    }
   ],
   "source": [
    "similar('city_english',76,77)"
   ]
  },
  {
   "cell_type": "code",
   "execution_count": 72,
   "metadata": {},
   "outputs": [],
   "source": [
    "atms.replace(to_replace =['JASH-TATHLETH'], \n",
    "                 value = ['JASH'], \n",
    "             regex = False,inplace=True) "
   ]
  },
  {
   "cell_type": "code",
   "execution_count": 73,
   "metadata": {},
   "outputs": [
    {
     "name": "stdout",
     "output_type": "stream",
     "text": [
      "ALBAHA is similar to ALBASHAYIR\n",
      "AFRAA-SABIT ALALYAH is similar to SABT ALALAYAH\n",
      "ALAMWAH is similar to ALMAJMAAH\n",
      "ALAMWAH is similar to ALFAWARAH\n",
      "ALAMWAH is similar to ALMAKHWAH\n",
      "ALBASHAYIR is similar to ALBAHA\n",
      "ALHARJA is similar to ALDHAHRAN\n",
      "ALMAUTHA is similar to ALMAHANI\n",
      "BALAHMAR is similar to BALASMER\n",
      "BALASMER is similar to BALAHMAR\n",
      "SABT ALALAYAH is similar to AFRAA-SABIT ALALYAH\n",
      "ALKHUBAR is similar to ALKHOBRA\n",
      "ALKHUBAR is similar to ALKHURMA\n",
      "ALRAFEAH is similar to ALRAFAEE\n",
      "ALDHAHRAN is similar to ALHARJA\n",
      "MELEAJAH is similar to MULEEJAH\n",
      "ALADWAH is similar to ALMELADAH\n",
      "ALADWAH is similar to ALFAWARAH\n",
      "ALADWAH is similar to ALMAKHWAH\n",
      "ALADWAH is similar to ALMADINAH\n",
      "ALADWAH is similar to ALARIDHAH\n",
      "ALKHOTTA is similar to ALKHOBRA\n",
      "HAIL is similar to HAQL\n",
      "ALARIDHAH is similar to ALADWAH\n",
      "ALFAQEER is similar to ALRAFAEE\n",
      "ALUTAMAH is similar to ALUYANAH\n",
      "ALMADINAH is similar to ALADWAH\n",
      "ALKHURMA is similar to ALKHOBRA\n",
      "ALKHURMA is similar to ALKHUBAR\n",
      "ALMAHANI is similar to ALMAUTHA\n",
      "ALMAKHWAH is similar to ALADWAH\n",
      "ALMAKHWAH is similar to ALAMWAH\n",
      "ALMETHALIF is similar to ALTAIF\n",
      "QYA - TAIF is similar to SHAQSAN - TAIF\n",
      "ALTAIF is similar to ALMETHALIF\n",
      "NAJRAN is similar to SAR-NAJRAN\n",
      "SAR-NAJRAN is similar to NAJRAN\n",
      "ALASYAH is similar to ALSHEHYAH\n",
      "ALFAWARAH is similar to ALADWAH\n",
      "ALFAWARAH is similar to ALAMWAH\n",
      "ALKHOBRA is similar to ALKHURMA\n",
      "ALKHOBRA is similar to ALKHOTTA\n",
      "ALKHOBRA is similar to ALKHUBAR\n",
      "ALMELADAH is similar to ALADWAH\n",
      "ALSHEHYAH is similar to ALASYAH\n",
      "DARYAH is similar to ALDAREEYAH\n",
      "ALJELLAH is similar to ALJBYLAH\n",
      "ALUYANAH is similar to ALUTAMAH\n",
      "ALRAFAEE is similar to ALFAQEER\n",
      "ALRAFAEE is similar to ALRAFEAH\n",
      "HAQL is similar to HAIL\n",
      "METHNAB is similar to ALMITHNAB\n",
      "ALJBYLAH is similar to ALJELLAH\n",
      "ALMITHNAB is similar to METHNAB\n",
      "BLLSAMAR is similar to BALAHMAR\n",
      "ALDAREEYAH is similar to DARYAH\n",
      "MULEEJAH is similar to MELEAJAH\n"
     ]
    }
   ],
   "source": [
    "similar('city_english',75,76)"
   ]
  },
  {
   "cell_type": "code",
   "execution_count": 74,
   "metadata": {},
   "outputs": [],
   "source": [
    "atms.replace(to_replace =['DERYIAH','METHNAB','SAR-NAJRAN','AFRAA-SABIT ALALYAH'], \n",
    "                 value = ['ALDAREEYAH','ALMITHNAB','SAR','AFRAA'], \n",
    "             regex = False,inplace=True) "
   ]
  },
  {
   "cell_type": "code",
   "execution_count": 75,
   "metadata": {},
   "outputs": [
    {
     "name": "stdout",
     "output_type": "stream",
     "text": [
      "QULWA is similar to QILWAH\n",
      "ALEISAWAYAH is similar to ALARTAWAYAH\n",
      "BISHAH is similar to BIESH\n",
      "MAHIL is similar to MHAYIL\n",
      "SAMKH is similar to SAMTAH\n",
      "BQAIQ is similar to BUQAYQ\n",
      "ALNUAYRIYAH is similar to ALBUKIRIYAH\n",
      "ALSARAR is similar to ARAR\n",
      "DAMMAM is similar to DALAM\n",
      "ORAYRA is similar to RANYA\n",
      "SAFUAH is similar to SAFWA\n",
      "SALWAH is similar to SAFWA\n",
      "ALHAIT is similar to ALAIS\n",
      "ALSOULEMI HAIL is similar to ALSOULIL\n",
      "HAIL is similar to MAHAYIL\n",
      "SAMTAH is similar to SAMKH\n",
      "ALAIS is similar to ALAHSA\n",
      "ALAIS is similar to ALQASB\n",
      "ALAIS is similar to ALRASS\n",
      "ALAIS is similar to ALTAIF\n",
      "ALAIS is similar to ALQOIS\n",
      "ALAIS is similar to ALHAIT\n",
      "ALQOIS is similar to ALQOZ\n",
      "ALQOIS is similar to ALAIS\n",
      "NAMERA is similar to MERAT\n",
      "RANYA is similar to ORAYRA\n",
      "ALTAIF is similar to ALAIS\n",
      "ARAR is similar to ALSARAR\n",
      "ALBUKIRIYAH is similar to ALNUAYRIYAH\n",
      "ALRASS is similar to ALAIS\n",
      "ALARTAWAYAH is similar to ALROWAYADAH\n",
      "ALARTAWAYAH is similar to ALEISAWAYAH\n",
      "ALDALM is similar to DALAM\n",
      "ALQASB is similar to ALAIS\n",
      "ALROWAYADAH is similar to ALARTAWAYAH\n",
      "ALSOULIL is similar to ALSOULEMI HAIL\n",
      "DHURMA is similar to DHUBA\n",
      "MERAT is similar to MARRAT\n",
      "MERAT is similar to NAMERA\n",
      "DHUBA is similar to DHURMA\n",
      "DALAM is similar to MALHAM\n",
      "DALAM is similar to ALDALM\n",
      "DALAM is similar to DAMMAM\n",
      "MALHAM is similar to DALAM\n",
      "BIESH is similar to BISHAH\n",
      "MAHAYIL is similar to HAIL\n",
      "ALAHSA is similar to ALAIS\n",
      "MARRAT is similar to MERAT\n",
      "MHAYIL is similar to MAHIL\n",
      "ALQOZ is similar to ALQOIS\n",
      "QILWAH is similar to QULWA\n",
      "BUQAYQ is similar to BQAIQ\n",
      "SAFWA is similar to SALWAH\n",
      "SAFWA is similar to SAFUAH\n"
     ]
    }
   ],
   "source": [
    "similar('city_english',73,74)"
   ]
  },
  {
   "cell_type": "code",
   "execution_count": 76,
   "metadata": {},
   "outputs": [],
   "source": [
    "atms.replace(to_replace =['ALHADIASAH','ALDAREEYAH','MAHIL','BISHAH','BIESH','SAFUAH','BUQAYQ','ULWA','ALQOIS','MERAT','DALM'], \n",
    "                 value = ['ALHADITHA','ALDIRIYAH','MHAYIL','BEESHAH','BEESH','SAFWA','BQAIQ','QILWAH','ALQOZ','MARRAT','ALDALM'], \n",
    "             regex = False,inplace=True) "
   ]
  },
  {
   "cell_type": "code",
   "execution_count": 77,
   "metadata": {},
   "outputs": [
    {
     "data": {
      "text/plain": [
       "367"
      ]
     },
     "execution_count": 77,
     "metadata": {},
     "output_type": "execute_result"
    }
   ],
   "source": [
    "atms.city_english.nunique()"
   ]
  },
  {
   "cell_type": "code",
   "execution_count": 78,
   "metadata": {},
   "outputs": [],
   "source": [
    "# For city_arabic column:"
   ]
  },
  {
   "cell_type": "code",
   "execution_count": 79,
   "metadata": {},
   "outputs": [],
   "source": [
    "# Remove white spaces\n",
    "atms['city_arabic']=atms['city_arabic'].str.strip();"
   ]
  },
  {
   "cell_type": "code",
   "execution_count": 80,
   "metadata": {},
   "outputs": [
    {
     "name": "stdout",
     "output_type": "stream",
     "text": [
      "المدينة المنورة is similar to المدينة النورة\n",
      "المدينة النورة is similar to المدينة المنورة\n",
      "وادي الدواسر is similar to وادي الدوسر\n",
      "وادي الدوسر is similar to وادي الدواسر\n"
     ]
    }
   ],
   "source": [
    "similar('city_arabic',95)"
   ]
  },
  {
   "cell_type": "code",
   "execution_count": 81,
   "metadata": {},
   "outputs": [],
   "source": [
    "atms.replace(to_replace =['المدينة النورة','وادي الدوسر'], \n",
    "             value =['المدينة المنورة','وادي الدواسر'], regex = False,inplace=True) "
   ]
  },
  {
   "cell_type": "code",
   "execution_count": 82,
   "metadata": {},
   "outputs": [
    {
     "name": "stdout",
     "output_type": "stream",
     "text": [
      "ينبع النخل is similar to ينبع النخيل\n",
      "ينبع النخيل is similar to ينبع النخل\n"
     ]
    }
   ],
   "source": [
    "similar('city_arabic',94)"
   ]
  },
  {
   "cell_type": "code",
   "execution_count": 83,
   "metadata": {},
   "outputs": [],
   "source": [
    "atms.replace(to_replace =['ينبع النخل'], value =['ينبع النخيل'], regex = False,inplace=True) "
   ]
  },
  {
   "cell_type": "code",
   "execution_count": 84,
   "metadata": {},
   "outputs": [
    {
     "name": "stdout",
     "output_type": "stream",
     "text": [
      "العرين is similar to الرين\n",
      "الجبيل is similar to الجبيلة\n",
      "احد المسارحة is similar to أحد المسارحة\n",
      "احد المسارحة is similar to احد المسارحه\n",
      "القرين is similar to الرين\n",
      "الرين is similar to القرين\n",
      "الرين is similar to العرين\n",
      "وادى الدواسر is similar to وادي الدواسر\n",
      "الجبيلة is similar to الجبيل\n",
      "احد المسارحه is similar to احد المسارحة\n",
      "وادي الدواسر is similar to وادى الدواسر\n",
      "أحد المسارحة is similar to احد المسارحة\n"
     ]
    }
   ],
   "source": [
    "similar('city_arabic',90)"
   ]
  },
  {
   "cell_type": "code",
   "execution_count": 85,
   "metadata": {},
   "outputs": [],
   "source": [
    "atms.replace(to_replace =['احد المسارحة','احد المسارحه','وادى الدواسر'], \n",
    "                value =['أحد المسارحة','أحد المسارحة','وادي الدواسر'], regex = False,inplace=True) "
   ]
  },
  {
   "cell_type": "code",
   "execution_count": 86,
   "metadata": {},
   "outputs": [
    {
     "name": "stdout",
     "output_type": "stream",
     "text": [
      "العرين is similar to الرين\n",
      "الحفاير is similar to الحفيرة\n",
      "الحفيرة is similar to الحفاير\n",
      "الحريضة is similar to الرويضة\n",
      "بيشة is similar to بيش\n",
      "محايل is similar to حايل\n",
      "سراة عبيدة is similar to سرات عبيدة\n",
      "سراة عبيدة is similar to سراة عبيده\n",
      "احد رفيدة is similar to أحد رفيدة\n",
      "ابقيق is similar to بقيق\n",
      "الجبيل is similar to الجبيلة\n",
      "الاحساء is similar to الأحساء\n",
      "ابو عريش is similar to أبو عريش\n",
      "بيش is similar to بيشة\n",
      "صبيا is similar to صبياء\n",
      "المدينة المنورة is similar to المدينه المنوره\n",
      "قيا - الطائف is similar to ثقيف - الطائف\n",
      "ثقيف - الطائف is similar to قيا - الطائف\n",
      "الديرية is similar to الدرعية\n",
      "القرين is similar to الرين\n",
      "البدائع is similar to البدايع\n",
      "الفوارة is similar to القوارة\n",
      "القوارة is similar to الفوارة\n",
      "الافلاج is similar to الأفلاج\n",
      "الدوادمى is similar to الدوادمي\n",
      "الرين is similar to القرين\n",
      "الرين is similar to العرين\n",
      "الرويضة is similar to الحريضة\n",
      "أحد رفيدة is similar to احد رفيدة\n",
      "الجبيلة is similar to الجبيل\n",
      "المدينه المنوره is similar to المدينة المنورة\n",
      "الأحساء is similar to الاحساء\n",
      "بقيق is similar to ابقيق\n",
      "سراة عبيده is similar to سراة عبيدة\n",
      "حايل is similar to محايل\n",
      "الدوادمي is similar to الدوادمى\n",
      "الدرعية is similar to الديرية\n",
      "أبو عريش is similar to ابو عريش\n",
      "سرات عبيدة is similar to سراة عبيدة\n",
      "البدايع is similar to البدائع\n",
      "صبياء is similar to صبيا\n",
      "الأفلاج is similar to الافلاج\n"
     ]
    }
   ],
   "source": [
    "similar('city_arabic',85)"
   ]
  },
  {
   "cell_type": "code",
   "execution_count": 87,
   "metadata": {},
   "outputs": [],
   "source": [
    "atms.replace(to_replace =['سرات عبيدة','سراة عبيده','احد رفيدة','ابقيق','الاحساء','ابو عريش','الدوادمى',' الدوادمي'], \n",
    "                  value =['سراة عبيدة','سراة عبيدة','أحد رفيدة','بقيق','الأحساء','أبو عريش','الدوادمي','الدوادمي'], regex = False,inplace=True) "
   ]
  },
  {
   "cell_type": "code",
   "execution_count": 88,
   "metadata": {},
   "outputs": [],
   "source": [
    "atms.replace(to_replace =['المدينه المنوره',  'البدايع', 'الافلاج','الدوادمى','صبيا'], value =['المدينة المنورة', 'البدائع', 'الأفلاج', 'الداودمي','صبياء'], regex = False,inplace=True) "
   ]
  },
  {
   "cell_type": "code",
   "execution_count": 89,
   "metadata": {},
   "outputs": [
    {
     "name": "stdout",
     "output_type": "stream",
     "text": [
      "العرين is similar to الرين\n",
      "العرين is similar to القرين\n",
      "الحفاير is similar to الحفيرة\n",
      "الحفيرة is similar to الحفاير\n",
      "الحريضة is similar to الرويضة\n",
      "بالحمر is similar to بالسمر\n",
      "بالسمر is similar to بالحمر\n",
      "بيشة is similar to بيش\n",
      "محايل is similar to حايل\n",
      "الجبيل is similar to الجبيلة\n",
      "الخبر is similar to الخبراء\n",
      "القطيف is similar to العطيف\n",
      "راس تنورة is similar to راس تنوه\n",
      "العظيم - حائل is similar to السليمى - حائل\n",
      "السليمى - حائل is similar to العظيم - حائل\n",
      "بيش is similar to بيشة\n",
      "العطيف is similar to القطيف\n",
      "مكة المكرمة is similar to مكه المكرمه\n",
      "قيا - الطائف is similar to ثقيف - الطائف\n",
      "قيا - الطائف is similar to شقصان - الطائف\n",
      "شقصان - الطائف is similar to قيا - الطائف\n",
      "ثقيف - الطائف is similar to قيا - الطائف\n",
      "الديرية is similar to الدرعية\n",
      "القرين is similar to الرين\n",
      "القرين is similar to العرين\n",
      "الفوارة is similar to القوارة\n",
      "الخبراء is similar to الخبر\n",
      "القوارة is similar to الفوارة\n",
      "الجلة is similar to الجبيلة\n",
      "الرين is similar to القرين\n",
      "الرين is similar to العرين\n",
      "الرويضة is similar to الحريضة\n",
      "الزلفى is similar to الزلفي\n",
      "الجبيلة is similar to الجلة\n",
      "الجبيلة is similar to الجبيل\n",
      "الزلفي is similar to الزلفى\n",
      "راس تنوه is similar to راس تنورة\n",
      "مكه المكرمه is similar to مكة المكرمة\n",
      "حايل is similar to محايل\n",
      "الدرعية is similar to الديرية\n"
     ]
    }
   ],
   "source": [
    "similar('city_arabic',80)"
   ]
  },
  {
   "cell_type": "code",
   "execution_count": 90,
   "metadata": {},
   "outputs": [],
   "source": [
    "atms.replace(to_replace =['بالحمر', 'راس تنوه','مكه المكرمه','الزلفى'], value =['بالسمر', 'راس تنورة', 'مكة المكرمة','الزلفي'], regex = False,inplace=True) "
   ]
  },
  {
   "cell_type": "code",
   "execution_count": 91,
   "metadata": {},
   "outputs": [
    {
     "name": "stdout",
     "output_type": "stream",
     "text": [
      "القريات is similar to الرياض\n",
      "القريات is similar to القرين\n",
      "الأمواه is similar to المويه\n",
      "العرين is similar to الرين\n",
      "العرين is similar to العيينة\n",
      "العرين is similar to القرين\n",
      "البرك is similar to الخبر\n",
      "الفرشة is similar to الفوارة\n",
      "الفرشة is similar to الحفيرة\n",
      "الحفاير is similar to الفقير\n",
      "الحفاير is similar to الحفيرة\n",
      "الحفيرة is similar to الفقير\n",
      "الحفيرة is similar to الحرجة\n",
      "الحفيرة is similar to الحفاير\n",
      "الحفيرة is similar to الفرشة\n",
      "الحرجة is similar to الحريضة\n",
      "الحرجة is similar to الحفيرة\n",
      "الحريضة is similar to الرياض\n",
      "الحريضة is similar to الرويضة\n",
      "الحريضة is similar to الحريق\n",
      "الحريضة is similar to الحرجة\n",
      "المظه is similar to المهد\n",
      "بيشة is similar to بيش\n",
      "محايل is similar to حايل\n",
      "يعرة is similar to عريعرة\n",
      "منفذ البطحاء is similar to منفذ الطوال\n",
      "الجبيل is similar to الجبيلة\n",
      "الخبر is similar to الخرج\n",
      "الخبر is similar to الخبراء\n",
      "الخبر is similar to البرك\n",
      "النعيرية is similar to العيينة\n",
      "النعيرية is similar to الديرية\n",
      "النعيرية is similar to السعيرة\n",
      "القطيف is similar to العطيف\n",
      "الرفيعة is similar to الربيعية\n",
      "السعيرة is similar to النعيرية\n",
      "عريعرة is similar to عرعر\n",
      "عريعرة is similar to يعرة\n",
      "العظيم - حائل is similar to السليمى - حائل\n",
      "السليمى - حائل is similar to العظيم - حائل\n",
      "الدائر بنى مالك is similar to حداد بنى مالك\n",
      "الدائر بنى مالك is similar to القريع بنى مالك\n",
      "منفذ الطوال is similar to منفذ البطحاء\n",
      "بيش is similar to بيشة\n",
      "جازان is similar to جيزان\n",
      "صامطة is similar to صامطه\n",
      "الفقير is similar to الحفيرة\n",
      "الفقير is similar to الحفاير\n",
      "المهد is similar to المظه\n",
      "الرايس is similar to الرس\n",
      "العطيف is similar to القطيف\n",
      "الخرمة is similar to الخريبة\n",
      "القريع بنى مالك is similar to الدائر بنى مالك\n",
      "عشيرة - الطائف is similar to قيا - الطائف\n",
      "حداد بنى مالك is similar to الدائر بنى مالك\n",
      "المويه is similar to الأمواه\n",
      "قيا - الطائف is similar to ثقيف - الطائف\n",
      "قيا - الطائف is similar to شقصان - الطائف\n",
      "قيا - الطائف is similar to عشيرة - الطائف\n",
      "شقصان - الطائف is similar to قيا - الطائف\n",
      "ثقيف - الطائف is similar to قيا - الطائف\n",
      "عرعر is similar to عريعرة\n",
      "الديرية is similar to الدرعية\n",
      "الديرية is similar to الدليمية\n",
      "الديرية is similar to البكيرية\n",
      "الديرية is similar to النعيرية\n",
      "القرين is similar to الرين\n",
      "القرين is similar to العرين\n",
      "القرين is similar to القريات\n",
      "البكيرية is similar to الديرية\n",
      "الدليمية is similar to الدلم\n",
      "الدليمية is similar to الديرية\n",
      "الفوارة is similar to القوارة\n",
      "الفوارة is similar to الفرشة\n",
      "الخبراء is similar to الخبر\n",
      "بريدة is similar to بريده\n",
      "النقرة is similar to القوارة\n",
      "القوارة is similar to النقرة\n",
      "القوارة is similar to الفوارة\n",
      "الربيعية is similar to الدرعية\n",
      "الربيعية is similar to الرفيعة\n",
      "الرس is similar to الرايس\n",
      "عنيزة is similar to عنيزه\n",
      "الدلم is similar to الدليمية\n",
      "الحريق is similar to الحريضة\n",
      "الجلة is similar to الجبيلة\n",
      "الخرج is similar to الخبر\n",
      "العيينة is similar to النعيرية\n",
      "العيينة is similar to العرين\n",
      "الرين is similar to القرين\n",
      "الرين is similar to العرين\n",
      "الرويضة is similar to الرياض\n",
      "الرويضة is similar to الحريضة\n",
      "الرياض is similar to الرويضة\n",
      "الرياض is similar to الحريضة\n",
      "الرياض is similar to القريات\n",
      "الخريبة is similar to الخرمة\n",
      "الجبيلة is similar to الجلة\n",
      "الجبيلة is similar to الجبيل\n",
      "عنيزه is similar to عنيزة\n",
      "بريده is similar to بريدة\n",
      "جيزان is similar to جازان\n",
      "صامطه is similar to صامطة\n",
      "حايل is similar to محايل\n",
      "الدرعية is similar to الربيعية\n",
      "الدرعية is similar to الديرية\n"
     ]
    }
   ],
   "source": [
    "similar('city_arabic',75)"
   ]
  },
  {
   "cell_type": "code",
   "execution_count": 92,
   "metadata": {},
   "outputs": [],
   "source": [
    "atms.replace(to_replace =['صامطه','يعرة' , 'بريده','عنيزه'], value =['صامطة','عريعرة', 'بريدة','عنيزة'], regex = False,inplace=True) "
   ]
  },
  {
   "cell_type": "code",
   "execution_count": 93,
   "metadata": {},
   "outputs": [
    {
     "name": "stdout",
     "output_type": "stream",
     "text": [
      "العقيق - الباحة is similar to بيدة - الباحة\n",
      "الباحة is similar to البجادية\n",
      "المندق is similar to المهد\n",
      "بيدة - الباحة is similar to العقيق - الباحة\n",
      "العيساوية is similar to العيينة\n",
      "العيساوية is similar to النعيرية\n",
      "الحديثة is similar to الدرعية\n",
      "الحديثة is similar to الشيحية\n",
      "الحديثة is similar to الديرية\n",
      "الحديثة is similar to الحريضة\n",
      "الحديثة is similar to الحفيرة\n",
      "الجوف is similar to الهفوف\n",
      "الجوف is similar to الجموم\n",
      "الجوف is similar to الاجفر\n",
      "القريات is similar to الرياض\n",
      "القريات is similar to القرين\n",
      "ابها is similar to أبها\n",
      "عفراء - سبت العلايا is similar to سبت العلايا\n",
      "الأمواه is similar to المويه\n",
      "الأمواه is similar to المخواة\n",
      "العرين is similar to الرين\n",
      "العرين is similar to العيينة\n",
      "العرين is similar to القرين\n",
      "العرين is similar to العيص\n",
      "العرين is similar to النعيرية\n",
      "البشائر is similar to البدائع\n",
      "البرك is similar to المبرز\n",
      "البرك is similar to الخبر\n",
      "الفرشة is similar to الفوارة\n",
      "الفرشة is similar to الحفيرة\n",
      "الحفاير is similar to الفوارة\n",
      "الحفاير is similar to المحاني\n",
      "الحفاير is similar to الفقير\n",
      "الحفاير is similar to الحفيرة\n",
      "الحفيرة is similar to الشيحية\n",
      "الحفيرة is similar to الفوارة\n",
      "الحفيرة is similar to الديرية\n",
      "الحفيرة is similar to الفقير\n",
      "الحفيرة is similar to السعيرة\n",
      "الحفيرة is similar to الرفيعة\n",
      "الحفيرة is similar to الحريضة\n",
      "الحفيرة is similar to الحرجة\n",
      "الحفيرة is similar to الحفاير\n",
      "الحفيرة is similar to الفرشة\n",
      "الحفيرة is similar to الحديثة\n",
      "الحرجة is similar to الخرج\n",
      "الحرجة is similar to الجلة\n",
      "الحرجة is similar to الحريضة\n",
      "الحرجة is similar to الحفيرة\n",
      "الحيمة - وادى بن هشبل is similar to وادى بن هشبل\n",
      "الحريضة is similar to الدرعية\n",
      "الحريضة is similar to الخريبة\n",
      "الحريضة is similar to الرياض\n",
      "الحريضة is similar to الرويضة\n",
      "الحريضة is similar to الحريق\n",
      "الحريضة is similar to الشيحية\n",
      "الحريضة is similar to الديرية\n",
      "الحريضة is similar to العارضة\n",
      "الحريضة is similar to الرفيعة\n",
      "الحريضة is similar to الحرجة\n",
      "الحريضة is similar to الحفيرة\n",
      "الحريضة is similar to الحديثة\n",
      "المجاردة is similar to البجادية\n",
      "المظه is similar to المويه\n",
      "المظه is similar to المهد\n",
      "النقيع is similar to القويعية\n",
      "القحمة is similar to القيصومة\n",
      "الشبيكة is similar to الجبيلة\n",
      "الشبيكة is similar to الشيحية\n",
      "الشبيكة is similar to الذيبية\n",
      "الواديين is similar to الدوادمي\n",
      "بيشة is similar to بيش\n",
      "محايل is similar to حايل\n",
      "مربة is similar to تربة\n",
      "مربة is similar to نمرة\n",
      "سبت العلايا is similar to عفراء - سبت العلايا\n",
      "طريب is similar to طريف\n",
      "وادى بن هشبل is similar to الحيمة - وادى بن هشبل\n",
      "عريعرة is similar to عرعر\n",
      "منفذ البطحاء is similar to منفذ الطوال\n",
      "الجبيل is similar to الجبيلة\n",
      "الجبيل is similar to الجلة\n",
      "الجبيل الصناعية is similar to ينبع الصناعية\n",
      "الخفجي is similar to الخرج\n",
      "الخبر is similar to المبرز\n",
      "الخبر is similar to الخرج\n",
      "الخبر is similar to الخبراء\n",
      "الخبر is similar to الخرمة\n",
      "الخبر is similar to البرك\n",
      "النعيرية is similar to العيينة\n",
      "النعيرية is similar to النقرة\n",
      "النعيرية is similar to البكيرية\n",
      "النعيرية is similar to الديرية\n",
      "النعيرية is similar to العويقيلة\n",
      "النعيرية is similar to السعيرة\n",
      "النعيرية is similar to العرين\n",
      "النعيرية is similar to العيساوية\n",
      "القطيف is similar to العطيف\n",
      "القيصومة is similar to اليتمة\n",
      "القيصومة is similar to القحمة\n",
      "الرفيعة is similar to الدرعية\n",
      "الرفيعة is similar to الخريبة\n",
      "الرفيعة is similar to الرويضة\n",
      "الرفيعة is similar to الرفائع\n",
      "الرفيعة is similar to الربيعية\n",
      "الرفيعة is similar to الديرية\n",
      "الرفيعة is similar to الحريضة\n",
      "الرفيعة is similar to الحفيرة\n",
      "السعيرة is similar to الدرعية\n",
      "السعيرة is similar to العيينة\n",
      "السعيرة is similar to الديرية\n",
      "السعيرة is similar to العارضة\n",
      "السعيرة is similar to النعيرية\n",
      "السعيرة is similar to الحفيرة\n",
      "الثقبة is similar to القصب\n",
      "الذيبية is similar to الجبيلة\n",
      "الذيبية is similar to الخريبة\n",
      "الذيبية is similar to العيينة\n",
      "الذيبية is similar to الشيحية\n",
      "الذيبية is similar to الديرية\n",
      "الذيبية is similar to الشبيكة\n",
      "الدمام is similar to الدلم\n",
      "المليجة is similar to املج\n",
      "المليجة is similar to المجمعة\n",
      "الاجفر is similar to الجوف\n",
      "العظيم - حائل is similar to السليمى - حائل\n",
      "الحائط is similar to الغاط\n",
      "الخطة is similar to الحوطة\n",
      "الخطة is similar to الخرمة\n",
      "السليمى - حائل is similar to العظيم - حائل\n",
      "حائل is similar to حايل\n",
      "الخوبة - جازان is similar to الريث - جازان\n",
      "الخوبة - جازان is similar to الحقو جازان\n",
      "العارضة is similar to الرويضة\n",
      "العارضة is similar to القوارة\n",
      "العارضة is similar to الفوارة\n",
      "العارضة is similar to السعيرة\n",
      "العارضة is similar to الحريضة\n",
      "الدائر بنى مالك is similar to حداد بنى مالك\n",
      "الدائر بنى مالك is similar to القريع بنى مالك\n",
      "قرية الفقهاء is similar to قرية الفويلق\n",
      "الحقو جازان is similar to الحميراء جازان\n",
      "الحقو جازان is similar to الخوبة - جازان\n",
      "الحميراء جازان is similar to الحقو جازان\n",
      "الريث - جازان is similar to الخوبة - جازان\n",
      "الشقيق is similar to اشيقر\n",
      "منفذ الطوال is similar to منفذ البطحاء\n",
      "بيش is similar to بيشة\n",
      "فيفا is similar to عفيف\n",
      "جازان is similar to جيزان\n",
      "صبياء is similar to قصيباء\n",
      "العيص is similar to العطيف\n",
      "العيص is similar to العرين\n",
      "الفقير is similar to الحفيرة\n",
      "الفقير is similar to الحفاير\n",
      "الحناكية is similar to الصحنة\n",
      "الحناكية is similar to النبهانية\n",
      "المهد is similar to المويه\n",
      "المهد is similar to المظه\n",
      "المهد is similar to المندق\n",
      "الرايس is similar to الرين\n",
      "الرايس is similar to الرس\n",
      "اليتمة is similar to الدليمية\n",
      "اليتمة is similar to القيصومة\n",
      "ينبع النخيل is similar to ينبع الصناعية\n",
      "ينبع الصناعية is similar to ينبع النخيل\n",
      "ينبع الصناعية is similar to الجبيل الصناعية\n",
      "الارطاوية is similar to الرويضة\n",
      "العطيف is similar to العيص\n",
      "العطيف is similar to القطيف\n",
      "الجموم is similar to الجوف\n",
      "الخرمة is similar to الخريبة\n",
      "الخرمة is similar to الخرج\n",
      "الخرمة is similar to الخطة\n",
      "الخرمة is similar to الخبر\n",
      "الليث is similar to الزلفي\n",
      "الليث is similar to السليل\n",
      "المحاني is similar to الحفاير\n",
      "المخواة is similar to القوارة\n",
      "المخواة is similar to الفوارة\n",
      "المخواة is similar to الأمواه\n",
      "القريع بنى مالك is similar to حداد بنى مالك\n",
      "القريع بنى مالك is similar to الدائر بنى مالك\n",
      "عشيرة - الطائف is similar to ثقيف - الطائف\n",
      "عشيرة - الطائف is similar to شقصان - الطائف\n",
      "عشيرة - الطائف is similar to قيا - الطائف\n",
      "حداد بنى مالك is similar to القريع بنى مالك\n",
      "حداد بنى مالك is similar to الدائر بنى مالك\n",
      "المويه is similar to الوجه\n",
      "المويه is similar to المهد\n",
      "المويه is similar to المظه\n",
      "المويه is similar to الأمواه\n",
      "نمرة is similar to مربة\n",
      "قيا - الطائف is similar to ثقيف - الطائف\n",
      "قيا - الطائف is similar to شقصان - الطائف\n",
      "قيا - الطائف is similar to عشيرة - الطائف\n",
      "رنية is similar to ضرية\n",
      "شقصان - الطائف is similar to ثقيف - الطائف\n",
      "شقصان - الطائف is similar to قيا - الطائف\n",
      "شقصان - الطائف is similar to عشيرة - الطائف\n",
      "تربة is similar to مربة\n",
      "ثقيف - الطائف is similar to شقصان - الطائف\n",
      "ثقيف - الطائف is similar to قيا - الطائف\n",
      "ثقيف - الطائف is similar to عشيرة - الطائف\n",
      "العويقيلة is similar to القويعية\n",
      "العويقيلة is similar to العيينة\n",
      "العويقيلة is similar to النعيرية\n",
      "عرعر is similar to عريعرة\n",
      "طريف is similar to طريب\n",
      "الديرية is similar to الدرعية\n",
      "الديرية is similar to الخريبة\n",
      "الديرية is similar to العيينة\n",
      "الديرية is similar to الشيحية\n",
      "الديرية is similar to الدليمية\n",
      "الديرية is similar to البكيرية\n",
      "الديرية is similar to الذيبية\n",
      "الديرية is similar to السعيرة\n",
      "الديرية is similar to النعيرية\n",
      "الديرية is similar to الحريضة\n",
      "الديرية is similar to الحفيرة\n",
      "الديرية is similar to الحديثة\n",
      "القرين is similar to الرين\n",
      "القرين is similar to العرين\n",
      "القرين is similar to القريات\n",
      "البدائع is similar to الرفائع\n",
      "البدائع is similar to البشائر\n",
      "البكيرية is similar to الربيعية\n",
      "البكيرية is similar to الديرية\n",
      "البكيرية is similar to النعيرية\n",
      "الدليمية is similar to الدلم\n",
      "الدليمية is similar to الديرية\n",
      "الدليمية is similar to اليتمة\n",
      "الفوارة is similar to القوارة\n",
      "الفوارة is similar to المخواة\n",
      "الفوارة is similar to العارضة\n",
      "الفوارة is similar to الحفيرة\n",
      "الفوارة is similar to الحفاير\n",
      "الفوارة is similar to الفرشة\n",
      "قرية الفويلق is similar to قرية الفقهاء\n",
      "الخبراء is similar to رياض الخبراء\n",
      "الخبراء is similar to الخبر\n",
      "النبهانية is similar to البجادية\n",
      "النبهانية is similar to الحناكية\n",
      "النقرة is similar to القوارة\n",
      "النقرة is similar to النعيرية\n",
      "القوارة is similar to النقرة\n",
      "القوارة is similar to الفوارة\n",
      "القوارة is similar to المخواة\n",
      "القوارة is similar to العارضة\n",
      "الربيعية is similar to الدرعية\n",
      "الربيعية is similar to القويعية\n",
      "الربيعية is similar to الرفيعة\n",
      "الرس is similar to الرايس\n",
      "الشماسية is similar to المزاحمية\n",
      "الشيحية is similar to العيينة\n",
      "الشيحية is similar to الديرية\n",
      "الشيحية is similar to الذيبية\n",
      "الشيحية is similar to الشبيكة\n",
      "ضرية is similar to رنية\n",
      "قصيباء is similar to صبياء\n",
      "رياض الخبراء is similar to الخبراء\n",
      "عفيف is similar to فيفا\n",
      "البجادية is similar to النبهانية\n",
      "البجادية is similar to المجاردة\n",
      "البجادية is similar to الباحة\n",
      "الدلم is similar to الدليمية\n",
      "الدلم is similar to الدمام\n",
      "الدوادمي is similar to الدمام\n",
      "الدوادمي is similar to الواديين\n",
      "الغاط is similar to الحائط\n",
      "الحريق is similar to الرين\n",
      "الحريق is similar to الحريضة\n",
      "الجلة is similar to الجبيلة\n",
      "الجلة is similar to الجبيل\n",
      "الجلة is similar to الحرجة\n",
      "الخرج is similar to الخرمة\n",
      "الخرج is similar to الخبر\n",
      "الخرج is similar to الخفجي\n",
      "الخرج is similar to الحرجة\n",
      "المجمعة is similar to المليجة\n",
      "المزاحمية is similar to الشماسية\n",
      "العيينة is similar to الدرعية\n",
      "العيينة is similar to الشيحية\n",
      "العيينة is similar to الديرية\n",
      "العيينة is similar to العويقيلة\n",
      "العيينة is similar to الذيبية\n",
      "العيينة is similar to السعيرة\n",
      "العيينة is similar to النعيرية\n",
      "العيينة is similar to العرين\n",
      "العيينة is similar to العيساوية\n",
      "القصب is similar to الثقبة\n",
      "القويعية is similar to الربيعية\n",
      "القويعية is similar to العويقيلة\n",
      "القويعية is similar to النقيع\n",
      "الرفائع is similar to البدائع\n",
      "الرفائع is similar to الرفيعة\n",
      "الرين is similar to الرياض\n",
      "الرين is similar to الحريق\n",
      "الرين is similar to القرين\n",
      "الرين is similar to الرايس\n",
      "الرين is similar to العرين\n",
      "الرويضة is similar to الدرعية\n",
      "الرويضة is similar to الخريبة\n",
      "الرويضة is similar to الرياض\n",
      "الرويضة is similar to الديرية\n",
      "الرويضة is similar to الارطاوية\n",
      "الرويضة is similar to العارضة\n",
      "الرويضة is similar to الرفيعة\n",
      "الرويضة is similar to الحريضة\n",
      "الصحنة is similar to الحناكية\n",
      "السليل is similar to الليث\n",
      "الزلفي is similar to الليث\n",
      "اشيقر is similar to الشقيق\n",
      "الرياض is similar to الرويضة\n",
      "الرياض is similar to الرين\n",
      "الرياض is similar to الحريضة\n",
      "الرياض is similar to القريات\n",
      "الخريبة is similar to الدرعية\n",
      "الخريبة is similar to الرويضة\n",
      "الخريبة is similar to الديرية\n",
      "الخريبة is similar to الخرمة\n",
      "الخريبة is similar to الذيبية\n",
      "الخريبة is similar to الرفيعة\n",
      "الخريبة is similar to الحريضة\n",
      "الوجه is similar to المويه\n",
      "املج is similar to المليجة\n",
      "أبها is similar to ابها\n",
      "الجبيلة is similar to الجلة\n",
      "الجبيلة is similar to الذيبية\n",
      "الجبيلة is similar to الجبيل\n",
      "الجبيلة is similar to الشبيكة\n",
      "الهفوف is similar to الجوف\n",
      "جيزان is similar to جازان\n",
      "المبرز is similar to الخبر\n",
      "المبرز is similar to البرك\n",
      "حايل is similar to حائل\n",
      "حايل is similar to محايل\n",
      "الدرعية is similar to الخريبة\n",
      "الدرعية is similar to الرويضة\n",
      "الدرعية is similar to العيينة\n",
      "الدرعية is similar to الربيعية\n",
      "الدرعية is similar to الديرية\n",
      "الدرعية is similar to السعيرة\n",
      "الدرعية is similar to الرفيعة\n",
      "الدرعية is similar to الحريضة\n",
      "الدرعية is similar to الحديثة\n",
      "الحوطة is similar to الخطة\n"
     ]
    }
   ],
   "source": [
    "similar('city_arabic',70)"
   ]
  },
  {
   "cell_type": "code",
   "execution_count": 94,
   "metadata": {},
   "outputs": [],
   "source": [
    "atms.replace(to_replace =['عفراء - سبت العلايا','وادى بن هشبل' , 'الحيمة - وادى بن هشبل','ابها', 'الحوطة ','رياض الخبراء','جده', 'جاش - تثليث','محايل'], value =['سبت العلايا','وادي بن هشبل', 'وادي بن هشبل','أبها','الحوطة ' , 'الخبراء', 'جدة','تثليث','محايل عسير'], regex = False,inplace=True) "
   ]
  },
  {
   "cell_type": "code",
   "execution_count": 95,
   "metadata": {},
   "outputs": [],
   "source": [
    "# For reg column:"
   ]
  },
  {
   "cell_type": "code",
   "execution_count": 96,
   "metadata": {},
   "outputs": [],
   "source": [
    "#Upper case all regions\n",
    "atms['reg'] = atms['reg'].str.upper()"
   ]
  },
  {
   "cell_type": "code",
   "execution_count": 97,
   "metadata": {},
   "outputs": [
    {
     "data": {
      "text/plain": [
       "array(['ALBAHA', 'ALJOUF', 'ASIR', 'EASTERN', 'HAIL', 'JAZAN', 'MADINA',\n",
       "       'MAKKAH', 'NAJRAN', 'NORTH BORDER', 'QASSIM', 'RIYADH', 'TABOUK',\n",
       "       nan, 'WESTERN', 'SOUTHERN', 'CENTRAL', 'NORTHERN'], dtype=object)"
      ]
     },
     "execution_count": 97,
     "metadata": {},
     "output_type": "execute_result"
    }
   ],
   "source": [
    "atms['reg'].unique()"
   ]
  },
  {
   "cell_type": "code",
   "execution_count": 98,
   "metadata": {},
   "outputs": [],
   "source": [
    "# Remove duplicated reigons \n",
    "atms.reg.replace(to_replace =['NORTHERN','CENTRAL','MAKKAH','MADINA','ALBAHA','JAZAN','NAJRAN'], \n",
    "             value = ['NORTH BORDER','RIYADH','WESTERN','WESTERN','SOUTHERN','SOUTHERN','SOUTHERN'], \n",
    "             regex = False,inplace=True) "
   ]
  },
  {
   "cell_type": "code",
   "execution_count": 99,
   "metadata": {},
   "outputs": [],
   "source": [
    "# Store all cities along with their reigons in a dictionary\n",
    "grouping_by = atms[atms.reg.notnull()].groupby(['reg','city_english'])\n",
    "city_reg={}\n",
    "\n",
    "for (i,j) in enumerate(grouping_by):\n",
    "    city_reg.update({j[0][1]: j[0][0]})"
   ]
  },
  {
   "cell_type": "code",
   "execution_count": 100,
   "metadata": {},
   "outputs": [],
   "source": [
    "# Filling NaN reigons by the city from the city_reg dictionary\n",
    "length = (atms.shape[0])\n",
    "for i in range(length):\n",
    "    if (isinstance(atms['reg'].iloc[i], str)):\n",
    "        pass\n",
    "    else:\n",
    "        city= atms['city_english'].iloc[i]\n",
    "        region= city_reg.get(city)\n",
    "        atms['reg'].iloc[i]= region"
   ]
  },
  {
   "cell_type": "markdown",
   "metadata": {},
   "source": [
    "- Cleaning Coordinates columns:\n",
    "   - a.  Convert coordinates to decimal format\n",
    "   - b.  Remove duplicated records again, based on typical coordinates"
   ]
  },
  {
   "cell_type": "code",
   "execution_count": 101,
   "metadata": {},
   "outputs": [],
   "source": [
    "def check_coord(coordinate):\n",
    "    \"\"\"\n",
    "    Return correct coordinates\n",
    "    \"\"\"\n",
    "    if isinstance(coordinate, float):\n",
    "        if coordinate<90 and coordinate>-90:\n",
    "            return coordinate\n",
    "        else:\n",
    "            return None\n",
    "    else: \n",
    "        return None"
   ]
  },
  {
   "cell_type": "code",
   "execution_count": 102,
   "metadata": {},
   "outputs": [],
   "source": [
    "# Replace improper coordinates format  \n",
    "atms[['lon','lat']] = atms[['lat','lon']].applymap(lambda coordinate: check_coord(coordinate))"
   ]
  },
  {
   "cell_type": "code",
   "execution_count": 103,
   "metadata": {},
   "outputs": [],
   "source": [
    "# Remove duplicated records again, based on typical coordinates\n",
    "coordinates=atms[['lon','lat']].dropna(subset=['lon','lat']).values\n"
   ]
  },
  {
   "cell_type": "markdown",
   "metadata": {},
   "source": [
    "End of data cleaning..."
   ]
  },
  {
   "cell_type": "markdown",
   "metadata": {},
   "source": [
    "## 4- Data Visualization"
   ]
  },
  {
   "cell_type": "markdown",
   "metadata": {},
   "source": [
    "- Menu class to eplorate and visualiz cleaned data:\n",
    "    - Show the number of ATMs in a specified city\n",
    "    - The city that has the maximum number of ATMs\n",
    "    - Bar plot for top cities with largest number of ATMs\n",
    "    - Mark ATMs on Google Maps\n",
    "    - Heat map to show the distribution of ATMs in Saudi Arabia\n",
    "    - Scatter plot to show the distribution of ATMs in Saudi Arabia\n",
    "    - Pie chart for ATMs per reigon"
   ]
  },
  {
   "cell_type": "code",
   "execution_count": 104,
   "metadata": {},
   "outputs": [],
   "source": [
    "class Menu:\n",
    "    \"\"\" Offer data visualization by functions\n",
    "    \"\"\"\n",
    "    \n",
    "    locations = [tuple(x) for x in coordinates]\n",
    "    \n",
    "    def city_atms(self,city):\n",
    "        \"\"\" Return number of ATMs in a specific city\n",
    "        \"\"\"\n",
    "        print(atms.city_english.value_counts()[city])\n",
    "        \n",
    "    def max_no_of_atms(self):\n",
    "        \"\"\" Return the city with maximum number of ATMs\n",
    "        \"\"\"\n",
    "        return atms.city_english.value_counts().head(1)\n",
    "    \n",
    "    def vis_top_atms(self,no=7):\n",
    "        \"\"\" Plot a bar chart for top cities with largest number of ATMs\n",
    "        \"\"\"\n",
    "        atms.city_english.value_counts().head(no).plot(kind='bar',figsize=(15,8));\n",
    "        plt.title('Top Cities with Largest Number of ATMs',fontsize=25)\n",
    "        plt.xticks(rotation=0,fontsize=20)\n",
    "        plt.yticks(fontsize=20)\n",
    "\n",
    "        return None\n",
    "        \n",
    "    def atms_scatter(self):\n",
    "        \"\"\" Scatter plot to show the distribution of ATMs in Saudi Arabia\n",
    "        \"\"\"\n",
    "        x=atms['lon']\n",
    "        y=atms['lat']\n",
    "        x_l=atms[(atms['lon'] < 32) & (atms['lon'] > 10) & (atms['lat'] < 50) & (atms['lat'] > 32)]['lon']\n",
    "        y_l=atms[(atms['lon'] < 32) & (atms['lon'] > 10) & (atms['lat'] < 50) & (atms['lat'] > 32)]['lat']\n",
    "        plt.figure(figsize=(8, 6))\n",
    "        plt.plot(y_l,x_l,'o');\n",
    "        plt.title('ATMs Distribution in Saudi Arabia',fontsize=20)\n",
    "        return None\n",
    "    \n",
    "    def reg_pie(self):\n",
    "        \"\"\" Plot pie chart for ATMs per reigon\n",
    "        \"\"\"\n",
    "        plt.title('ATMs per Reigon',fontsize=20)\n",
    "        atms.reg.value_counts().plot.pie(figsize=(10,10),textprops={'fontsize': 14});\n",
    "    \n",
    "    def atm_marker(self):\n",
    "        \"\"\" Mark ATMs on Google Maps\n",
    "        \"\"\"\n",
    "        fig = gmaps.figure()\n",
    "        markers = gmaps.marker_layer(Menu.locations)\n",
    "        fig.add_layer(markers)\n",
    "        return fig\n",
    "    \n",
    "    def heat_map(self):\n",
    "        \"\"\" Show heat map for the distribution of ATMs in Saudi Arabia\n",
    "        \"\"\"\n",
    "        fig = gmaps.figure()\n",
    "        fig.add_layer(gmaps.heatmap_layer(Menu.locations))\n",
    "        return fig\n",
    "    \n",
    "    "
   ]
  },
  {
   "cell_type": "markdown",
   "metadata": {},
   "source": [
    "- Represent the menu to the user"
   ]
  },
  {
   "cell_type": "code",
   "execution_count": 106,
   "metadata": {},
   "outputs": [
    {
     "name": "stdout",
     "output_type": "stream",
     "text": [
      "\n",
      "\n",
      "Menu: \n",
      "1- Number of atms in a city \n",
      "2- The city with Max. number of ATMs \n",
      "3- Bar plot for top cities with largest number of ATMs \n",
      "4- Scatter plot for ATMs' distribution in Saudi Arabia \n",
      "5- Pie chart shows ATMs per reigon \n",
      "Enter Q to quit\n"
     ]
    },
    {
     "name": "stdin",
     "output_type": "stream",
     "text": [
      "Enter a number from the above menu:  1\n",
      "Enter a city name:  NAJRAN\n"
     ]
    },
    {
     "name": "stdout",
     "output_type": "stream",
     "text": [
      "102\n"
     ]
    }
   ],
   "source": [
    "menu=Menu()\n",
    "def print_menu(): \n",
    "    print(\"\\n\\nMenu:\",\n",
    "          \"\\n1- Number of atms in a city\",\n",
    "          \"\\n2- The city with Max. number of ATMs\",\n",
    "          \"\\n3- Bar plot for top cities with largest number of ATMs\",\n",
    "          \"\\n4- Scatter plot for ATMs' distribution in Saudi Arabia\",\n",
    "          \"\\n5- Pie chart shows ATMs per reigon\",\n",
    "          \"\\nEnter Q to quit\")\n",
    "print_menu()\n",
    "\n",
    "option=input('Enter a number from the above menu: ')\n",
    "if option=='1':\n",
    "    city_u=input('Enter a city name: ')\n",
    "    menu.city_atms(city_u)\n",
    "\n",
    "\n",
    "elif option=='2':\n",
    "    print('\\nmaximum number of atms is in:', menu.max_no_of_atms())\n",
    "\n",
    "elif option=='3':\n",
    "    menu.vis_top_atms()\n",
    "\n",
    "elif option=='4':\n",
    "    menu.atms_scatter()\n",
    "    \n",
    "elif option=='5':\n",
    "    menu.reg_pie()\n",
    "        \n",
    "elif option=='Q':\n",
    "    pass\n",
    "else:\n",
    "    print('Invalid option')"
   ]
  },
  {
   "cell_type": "code",
   "execution_count": 107,
   "metadata": {},
   "outputs": [
    {
     "data": {
      "application/vnd.jupyter.widget-view+json": {
       "model_id": "1efbc41d0a344befa744ee926d3de109",
       "version_major": 2,
       "version_minor": 0
      },
      "text/plain": [
       "Figure(layout=FigureLayout(height='420px'))"
      ]
     },
     "metadata": {},
     "output_type": "display_data"
    }
   ],
   "source": [
    "menu.heat_map()"
   ]
  },
  {
   "cell_type": "code",
   "execution_count": 108,
   "metadata": {
    "scrolled": true
   },
   "outputs": [
    {
     "data": {
      "application/vnd.jupyter.widget-view+json": {
       "model_id": "e366240b7194474d8cf723448ce35a66",
       "version_major": 2,
       "version_minor": 0
      },
      "text/plain": [
       "Figure(layout=FigureLayout(height='420px'))"
      ]
     },
     "metadata": {},
     "output_type": "display_data"
    }
   ],
   "source": [
    "menu.atm_marker()"
   ]
  },
  {
   "cell_type": "code",
   "execution_count": null,
   "metadata": {},
   "outputs": [],
   "source": []
  }
 ],
 "metadata": {
  "celltoolbar": "Raw Cell Format",
  "kernelspec": {
   "display_name": "Python 3",
   "language": "python",
   "name": "python3"
  },
  "language_info": {
   "codemirror_mode": {
    "name": "ipython",
    "version": 3
   },
   "file_extension": ".py",
   "mimetype": "text/x-python",
   "name": "python",
   "nbconvert_exporter": "python",
   "pygments_lexer": "ipython3",
   "version": "3.7.3"
  }
 },
 "nbformat": 4,
 "nbformat_minor": 4
}
