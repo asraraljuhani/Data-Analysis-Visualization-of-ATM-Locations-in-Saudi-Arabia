{
 "cells": [
  {
   "cell_type": "markdown",
   "metadata": {
    "slideshow": {
     "slide_type": "slide"
    }
   },
   "source": [
    "# Data Analysis and Visualization of ATM Locations in Saudi Arabia\n",
    "\n",
    "\n",
    "\n",
    "\n",
    "\n",
    "### Asrar AlJuhani,  Nouf AlZahrani, and Zahra'a Hamwi"
   ]
  },
  {
   "cell_type": "markdown",
   "metadata": {
    "slideshow": {
     "slide_type": "slide"
    }
   },
   "source": [
    "<img src=\"img/scat1.png\" align=\"center\">"
   ]
  },
  {
   "cell_type": "markdown",
   "metadata": {
    "slideshow": {
     "slide_type": "slide"
    }
   },
   "source": [
    "# Data Visualization"
   ]
  },
  {
   "cell_type": "markdown",
   "metadata": {
    "slideshow": {
     "slide_type": "subslide"
    }
   },
   "source": [
    "### User interactive code to explorate the data\n",
    "### Serveral charts...\n",
    "### and Google Maps!"
   ]
  },
  {
   "cell_type": "markdown",
   "metadata": {
    "slideshow": {
     "slide_type": "subslide"
    }
   },
   "source": [
    "<img src=\"img/menu.png\" align=\"center\">"
   ]
  },
  {
   "cell_type": "markdown",
   "metadata": {
    "slideshow": {
     "slide_type": "subslide"
    }
   },
   "source": [
    "## Show the number of ATMs in a specified city\n",
    "<img src=\"img/m1.png\" align=\"center\">"
   ]
  },
  {
   "cell_type": "markdown",
   "metadata": {
    "slideshow": {
     "slide_type": "subslide"
    }
   },
   "source": [
    "## The city that has the maximum number of ATMs\n",
    "<img src=\"img/m2.png\" align=\"center\">"
   ]
  },
  {
   "cell_type": "markdown",
   "metadata": {
    "slideshow": {
     "slide_type": "subslide"
    }
   },
   "source": [
    "### The top cities with largest number of ATMs\n",
    " - Help banks to avoid cities that are full of ATMs, and expand in other cities\n",
    "<img src=\"img/bar.png\" width=\"600\" height=\"600\" align=\"center\">"
   ]
  },
  {
   "cell_type": "markdown",
   "metadata": {
    "slideshow": {
     "slide_type": "subslide"
    }
   },
   "source": [
    "### The ATMs per reigon \n",
    "<img src=\"img/pie.png\" width=\"600\" height=\"600\" align=\"center\" >"
   ]
  },
  {
   "cell_type": "markdown",
   "metadata": {
    "slideshow": {
     "slide_type": "subslide"
    }
   },
   "source": [
    "## The distribution of ATMs in Saudi Arabia\n",
    "<img src=\"img/scat2.png\" align=\"center\">"
   ]
  },
  {
   "cell_type": "markdown",
   "metadata": {
    "slideshow": {
     "slide_type": "subslide"
    }
   },
   "source": [
    "### The distribution of ATMs in Saudi Arabia\n",
    " - it is a clearer view of that scatter plot, and on a real map\n",
    "<img src=\"img/heat.png\" width=\"650\" height=\"650\" align=\"center\">"
   ]
  },
  {
   "cell_type": "markdown",
   "metadata": {
    "slideshow": {
     "slide_type": "subslide"
    }
   },
   "source": [
    "### Mark ATMs on Google Maps\n",
    "<img src=\"img/gmap.png\" width=600 height=600 align=\"center\">"
   ]
  },
  {
   "cell_type": "code",
   "execution_count": 1,
   "metadata": {
    "slideshow": {
     "slide_type": "subslide"
    }
   },
   "outputs": [],
   "source": [
    "class Menu:\n",
    "    \"\"\" Offer data visualization by functions\n",
    "    \"\"\"\n",
    "    \n",
    "    def city_atms(self,city):\n",
    "        \"\"\" Return number of ATMs in a specific city\n",
    "        \"\"\"\n",
    "        \n",
    "    def max_no_of_atms(self):\n",
    "        \"\"\" Return the city with maximum number of ATMs\n",
    "        \"\"\"\n",
    "    \n",
    "    def vis_top_atms(self,no=7):\n",
    "        \"\"\" Plot a bar chart for top cities with largest number of ATMs\n",
    "        \"\"\"\n",
    "        \n",
    "    def atms_scatter(self):\n",
    "        \"\"\" Scatter plot to show the distribution of ATMs in Saudi Arabia\n",
    "        \"\"\"\n",
    "    \n",
    "    def reg_pie(self):\n",
    "        \"\"\" Plot pie chart for ATMs per reigon\n",
    "        \"\"\"\n",
    "    \n",
    "    def atm_marker(self):\n",
    "        \"\"\" Mark ATMs on Google Maps\n",
    "        \"\"\"\n",
    "    \n",
    "    def heat_map(self):\n",
    "        \"\"\" Show heat map for the distribution of ATMs in Saudi Arabia\n",
    "        \"\"\""
   ]
  },
  {
   "cell_type": "code",
   "execution_count": 2,
   "metadata": {
    "slideshow": {
     "slide_type": "subslide"
    }
   },
   "outputs": [
    {
     "name": "stdout",
     "output_type": "stream",
     "text": [
      "\n",
      "\n",
      "Menu: \n",
      "1- Number of atms in a city \n",
      "2- The city with Max. number of ATMs \n",
      "3- Bar plot for top cities with largest number of ATMs \n",
      "4- Scatter plot for ATMs' distribution in Saudi Arabia \n",
      "5- Pie chart shows ATMs per reigon \n",
      "Enter Q to quit\n"
     ]
    },
    {
     "name": "stdin",
     "output_type": "stream",
     "text": [
      "Enter a number from the above menu:  3\n"
     ]
    }
   ],
   "source": [
    "menu=Menu()\n",
    "def print_menu(): \n",
    "    print(\"\\n\\nMenu:\",\n",
    "          \"\\n1- Number of atms in a city\",\n",
    "          \"\\n2- The city with Max. number of ATMs\",\n",
    "          \"\\n3- Bar plot for top cities with largest number of ATMs\",\n",
    "          \"\\n4- Scatter plot for ATMs' distribution in Saudi Arabia\",\n",
    "          \"\\n5- Pie chart shows ATMs per reigon\",\n",
    "          \"\\nEnter Q to quit\")\n",
    "print_menu()\n",
    "\n",
    "option=input('Enter a number from the above menu: ')\n",
    "if option=='1':\n",
    "    city_u=input('Enter a city name: ')\n",
    "    menu.city_atms(city_u)\n",
    "\n",
    "\n",
    "elif option=='2':\n",
    "    print('\\nmaximum number of atms is in:', menu.max_no_of_atms())\n",
    "\n",
    "elif option=='3':\n",
    "    menu.vis_top_atms()\n",
    "\n",
    "elif option=='4':\n",
    "    menu.atms_scatter()\n",
    "    \n",
    "elif option=='5':\n",
    "    menu.reg_pie()\n",
    "        \n",
    "elif option=='Q':\n",
    "    pass\n",
    "else:\n",
    "    print('Invalid option')"
   ]
  },
  {
   "cell_type": "markdown",
   "metadata": {
    "slideshow": {
     "slide_type": "slide"
    }
   },
   "source": [
    "# Data Exploration:\n",
    "\n"
   ]
  },
  {
   "cell_type": "code",
   "execution_count": 3,
   "metadata": {
    "slideshow": {
     "slide_type": "skip"
    }
   },
   "outputs": [
    {
     "name": "stderr",
     "output_type": "stream",
     "text": [
      "//anaconda3/lib/python3.7/site-packages/fuzzywuzzy/fuzz.py:11: UserWarning: Using slow pure-python SequenceMatcher. Install python-Levenshtein to remove this warning\n",
      "  warnings.warn('Using slow pure-python SequenceMatcher. Install python-Levenshtein to remove this warning')\n"
     ]
    }
   ],
   "source": [
    "import pandas as pd\n",
    "import numpy as np\n",
    "from fuzzywuzzy import fuzz,process\n",
    "import gmaps\n",
    "import matplotlib.pyplot as plt\n",
    "plt.style.use('seaborn-whitegrid')\n",
    "%matplotlib inline"
   ]
  },
  {
   "cell_type": "code",
   "execution_count": 4,
   "metadata": {},
   "outputs": [],
   "source": [
    "#Import ATM dataset\n",
    "atms = pd.read_excel('dataset.xlsx',sep='\\t')"
   ]
  },
  {
   "cell_type": "code",
   "execution_count": 5,
   "metadata": {
    "slideshow": {
     "slide_type": "subslide"
    }
   },
   "outputs": [
    {
     "data": {
      "text/html": [
       "<div>\n",
       "<style scoped>\n",
       "    .dataframe tbody tr th:only-of-type {\n",
       "        vertical-align: middle;\n",
       "    }\n",
       "\n",
       "    .dataframe tbody tr th {\n",
       "        vertical-align: top;\n",
       "    }\n",
       "\n",
       "    .dataframe thead th {\n",
       "        text-align: right;\n",
       "    }\n",
       "</style>\n",
       "<table border=\"1\" class=\"dataframe\">\n",
       "  <thead>\n",
       "    <tr style=\"text-align: right;\">\n",
       "      <th></th>\n",
       "      <th>Site</th>\n",
       "      <th>الموقع</th>\n",
       "      <th>City English</th>\n",
       "      <th>City Arabic</th>\n",
       "      <th>Reg</th>\n",
       "      <th>Brn</th>\n",
       "      <th>Site Type</th>\n",
       "      <th>X GIS Coordinates</th>\n",
       "      <th>Y GIS Coordinates</th>\n",
       "    </tr>\n",
       "  </thead>\n",
       "  <tbody>\n",
       "    <tr>\n",
       "      <th>0</th>\n",
       "      <td>CA-AKIK BRANCH BAHA 2</td>\n",
       "      <td>فرع العقيق الباحة  2</td>\n",
       "      <td>AL-AQIQ- BAHA</td>\n",
       "      <td>العقيق - الباحة</td>\n",
       "      <td>AL-BAHA</td>\n",
       "      <td>Brn</td>\n",
       "      <td>Room-Window</td>\n",
       "      <td>41.6538</td>\n",
       "      <td>20.2704</td>\n",
       "    </tr>\n",
       "    <tr>\n",
       "      <th>1</th>\n",
       "      <td>CA-AKIK BRANCH BAHA 1</td>\n",
       "      <td>فرع العقيق الباحة 1</td>\n",
       "      <td>AL-AQIQ- BAHA</td>\n",
       "      <td>العقيق - الباحة</td>\n",
       "      <td>AL-BAHA</td>\n",
       "      <td>Brn</td>\n",
       "      <td>Room-Window</td>\n",
       "      <td>41.6538</td>\n",
       "      <td>20.2704</td>\n",
       "    </tr>\n",
       "    <tr>\n",
       "      <th>2</th>\n",
       "      <td>AKIK BRANCH BAHA 3</td>\n",
       "      <td>فرع العقيق الباحة  3</td>\n",
       "      <td>AL-AQIQ- BAHA</td>\n",
       "      <td>العقيق - الباحة</td>\n",
       "      <td>AL-BAHA</td>\n",
       "      <td>Brn</td>\n",
       "      <td>Room-Window</td>\n",
       "      <td>41.6538</td>\n",
       "      <td>20.2704</td>\n",
       "    </tr>\n",
       "  </tbody>\n",
       "</table>\n",
       "</div>"
      ],
      "text/plain": [
       "                    Site                الموقع   City English  \\\n",
       "0  CA-AKIK BRANCH BAHA 2  فرع العقيق الباحة  2  AL-AQIQ- BAHA   \n",
       "1  CA-AKIK BRANCH BAHA 1   فرع العقيق الباحة 1  AL-AQIQ- BAHA   \n",
       "2     AKIK BRANCH BAHA 3  فرع العقيق الباحة  3  AL-AQIQ- BAHA   \n",
       "\n",
       "       City Arabic      Reg  Brn    Site Type X GIS Coordinates  \\\n",
       "0  العقيق - الباحة  AL-BAHA  Brn  Room-Window           41.6538   \n",
       "1  العقيق - الباحة  AL-BAHA  Brn  Room-Window           41.6538   \n",
       "2  العقيق - الباحة  AL-BAHA  Brn  Room-Window           41.6538   \n",
       "\n",
       "  Y GIS Coordinates  \n",
       "0           20.2704  \n",
       "1           20.2704  \n",
       "2           20.2704  "
      ]
     },
     "execution_count": 5,
     "metadata": {},
     "output_type": "execute_result"
    }
   ],
   "source": [
    "atms.head(3)"
   ]
  },
  {
   "cell_type": "code",
   "execution_count": 6,
   "metadata": {
    "slideshow": {
     "slide_type": "subslide"
    }
   },
   "outputs": [
    {
     "name": "stdout",
     "output_type": "stream",
     "text": [
      "<class 'pandas.core.frame.DataFrame'>\n",
      "RangeIndex: 15779 entries, 0 to 15778\n",
      "Data columns (total 9 columns):\n",
      "Site                 11172 non-null object\n",
      "الموقع               13419 non-null object\n",
      "City English         11178 non-null object\n",
      "City Arabic          7320 non-null object\n",
      " Reg                 8768 non-null object\n",
      "Brn                  4898 non-null object\n",
      "Site Type            8768 non-null object\n",
      "X GIS Coordinates    15778 non-null object\n",
      "Y GIS Coordinates    15778 non-null object\n",
      "dtypes: object(9)\n",
      "memory usage: 1.1+ MB\n"
     ]
    }
   ],
   "source": [
    "atms.info()"
   ]
  },
  {
   "cell_type": "markdown",
   "metadata": {
    "slideshow": {
     "slide_type": "subslide"
    }
   },
   "source": [
    "<img src=\"img/img2.png\" align=\"center\">"
   ]
  },
  {
   "cell_type": "markdown",
   "metadata": {
    "slideshow": {
     "slide_type": "slide"
    }
   },
   "source": [
    "## Before start cleaning..\n",
    "\n",
    "<img src=\"img/image.png\" align=\"center\">"
   ]
  },
  {
   "cell_type": "markdown",
   "metadata": {
    "slideshow": {
     "slide_type": "subslide"
    }
   },
   "source": [
    "- Remove spaces between words"
   ]
  },
  {
   "cell_type": "code",
   "execution_count": 7,
   "metadata": {
    "slideshow": {
     "slide_type": "-"
    }
   },
   "outputs": [],
   "source": [
    "atms.rename(columns=lambda x:x.replace(' ','_').lower(), inplace=True)"
   ]
  },
  {
   "cell_type": "markdown",
   "metadata": {
    "slideshow": {
     "slide_type": "subslide"
    }
   },
   "source": [
    "- Rename some columns"
   ]
  },
  {
   "cell_type": "code",
   "execution_count": 8,
   "metadata": {},
   "outputs": [],
   "source": [
    "atms.rename(columns={'x_gis_coordinates':'lon','y_gis_coordinates':'lat','الموقع':'site_ar','_reg':'reg'},inplace=True);"
   ]
  },
  {
   "cell_type": "markdown",
   "metadata": {
    "slideshow": {
     "slide_type": "slide"
    }
   },
   "source": [
    "# Data Cleaning"
   ]
  },
  {
   "cell_type": "markdown",
   "metadata": {
    "slideshow": {
     "slide_type": "slide"
    }
   },
   "source": [
    "- Problems:\n",
    "  - The data-set has so many nulls\n",
    "  - The unique values are not unique\n",
    "  - Coordinates out of Saudi Arabia"
   ]
  },
  {
   "cell_type": "markdown",
   "metadata": {
    "slideshow": {
     "slide_type": "subslide"
    }
   },
   "source": [
    "### Data Cleaning Plan\n",
    "- Drop duplicated records\n",
    "- Clean Cities and Region Columns\n",
    "- Clean Coordinates columns"
   ]
  },
  {
   "cell_type": "markdown",
   "metadata": {
    "slideshow": {
     "slide_type": "slide"
    }
   },
   "source": [
    "## 1. Drop duplicated records"
   ]
  },
  {
   "cell_type": "code",
   "execution_count": 9,
   "metadata": {},
   "outputs": [
    {
     "data": {
      "text/plain": [
       "(15779, 9)"
      ]
     },
     "execution_count": 9,
     "metadata": {},
     "output_type": "execute_result"
    }
   ],
   "source": [
    "atms.shape"
   ]
  },
  {
   "cell_type": "code",
   "execution_count": 10,
   "metadata": {
    "slideshow": {
     "slide_type": "-"
    }
   },
   "outputs": [],
   "source": [
    "#Drop duplicated records that are  identical in all colounm values\n",
    "atms.drop_duplicates(keep='first',inplace=True)"
   ]
  },
  {
   "cell_type": "code",
   "execution_count": 11,
   "metadata": {
    "slideshow": {
     "slide_type": "-"
    }
   },
   "outputs": [],
   "source": [
    "atms.drop_duplicates(subset=['lon','lat'],keep='first',inplace=True);"
   ]
  },
  {
   "cell_type": "code",
   "execution_count": 12,
   "metadata": {
    "slideshow": {
     "slide_type": "-"
    }
   },
   "outputs": [
    {
     "data": {
      "text/plain": [
       "(13068, 9)"
      ]
     },
     "execution_count": 12,
     "metadata": {},
     "output_type": "execute_result"
    }
   ],
   "source": [
    "atms.shape"
   ]
  },
  {
   "cell_type": "markdown",
   "metadata": {
    "slideshow": {
     "slide_type": "slide"
    }
   },
   "source": [
    "## 2. Cleaning Cities:"
   ]
  },
  {
   "cell_type": "markdown",
   "metadata": {
    "slideshow": {
     "slide_type": "subslide"
    }
   },
   "source": [
    "   ### a.  Upper case all cities"
   ]
  },
  {
   "cell_type": "code",
   "execution_count": 13,
   "metadata": {
    "slideshow": {
     "slide_type": "-"
    }
   },
   "outputs": [],
   "source": [
    "# Upper case all cities\n",
    "atms['city_english'] = atms['city_english'].str.upper()"
   ]
  },
  {
   "cell_type": "code",
   "execution_count": 14,
   "metadata": {},
   "outputs": [
    {
     "data": {
      "text/plain": [
       "576"
      ]
     },
     "execution_count": 14,
     "metadata": {},
     "output_type": "execute_result"
    }
   ],
   "source": [
    "# Checking the change in number of cities in city_english column\n",
    "atms['city_english'].nunique()"
   ]
  },
  {
   "cell_type": "markdown",
   "metadata": {
    "slideshow": {
     "slide_type": "subslide"
    }
   },
   "source": [
    "   ### b.  Remove white spaces"
   ]
  },
  {
   "cell_type": "code",
   "execution_count": 15,
   "metadata": {},
   "outputs": [
    {
     "data": {
      "text/plain": [
       "566"
      ]
     },
     "execution_count": 15,
     "metadata": {},
     "output_type": "execute_result"
    }
   ],
   "source": [
    "atms['city_english']=atms['city_english'].str.strip();\n",
    "atms['city_english'].nunique()"
   ]
  },
  {
   "cell_type": "markdown",
   "metadata": {
    "slideshow": {
     "slide_type": "subslide"
    }
   },
   "source": [
    "   ### c.  Uniform naming style: convert all (AL-) to (AL)"
   ]
  },
  {
   "cell_type": "code",
   "execution_count": 16,
   "metadata": {},
   "outputs": [
    {
     "data": {
      "text/plain": [
       "538"
      ]
     },
     "execution_count": 16,
     "metadata": {},
     "output_type": "execute_result"
    }
   ],
   "source": [
    "atms.replace(to_replace ='AL-', value = 'AL', regex = True,inplace=True) \n",
    "atms.replace(to_replace ='AL ', value = 'AL', regex = True,inplace=True)\n",
    "atms['city_english'].nunique()"
   ]
  },
  {
   "cell_type": "markdown",
   "metadata": {
    "slideshow": {
     "slide_type": "subslide"
    }
   },
   "source": [
    "  ### d.  Check similarity using FuzzyWuzzy library"
   ]
  },
  {
   "cell_type": "code",
   "execution_count": 17,
   "metadata": {},
   "outputs": [],
   "source": [
    "from fuzzywuzzy import fuzz,process"
   ]
  },
  {
   "cell_type": "code",
   "execution_count": 18,
   "metadata": {},
   "outputs": [
    {
     "data": {
      "text/plain": [
       "75"
      ]
     },
     "execution_count": 18,
     "metadata": {},
     "output_type": "execute_result"
    }
   ],
   "source": [
    "string1=\"ALKHUBAR\"\n",
    "string2=\"ALKHABRA\"\n",
    "fuzz.ratio(string1,string2)"
   ]
  },
  {
   "cell_type": "code",
   "execution_count": 20,
   "metadata": {
    "slideshow": {
     "slide_type": "-"
    }
   },
   "outputs": [],
   "source": [
    "def similar(column,score,limit=0):\n",
    "    print(string1,\"is similar to\",string2);"
   ]
  },
  {
   "cell_type": "markdown",
   "metadata": {
    "slideshow": {
     "slide_type": "subslide"
    }
   },
   "source": [
    "<img src=\"img/game.jpg\" align=\"center\">"
   ]
  },
  {
   "cell_type": "markdown",
   "metadata": {
    "slideshow": {
     "slide_type": "subslide"
    }
   },
   "source": [
    "### e.  Manual replacement for incorrect spellings "
   ]
  },
  {
   "cell_type": "markdown",
   "metadata": {
    "slideshow": {
     "slide_type": "-"
    }
   },
   "source": [
    "<img src=\"img/sim1.png\" align=\"center\">"
   ]
  },
  {
   "cell_type": "markdown",
   "metadata": {
    "slideshow": {
     "slide_type": "subslide"
    }
   },
   "source": [
    "<img src=\"img/sim2.png\" align=\"center\">"
   ]
  },
  {
   "cell_type": "markdown",
   "metadata": {
    "slideshow": {
     "slide_type": "slide"
    }
   },
   "source": [
    "## 3. Cleaning Region Columns:"
   ]
  },
  {
   "cell_type": "code",
   "execution_count": 21,
   "metadata": {
    "slideshow": {
     "slide_type": "-"
    }
   },
   "outputs": [],
   "source": [
    "#Upper case all regions\n",
    "atms['reg'] = atms['reg'].str.upper()"
   ]
  },
  {
   "cell_type": "code",
   "execution_count": 22,
   "metadata": {
    "slideshow": {
     "slide_type": "-"
    }
   },
   "outputs": [
    {
     "data": {
      "text/plain": [
       "array(['ALBAHA', 'ALJOUF', 'ASIR', 'EASTERN', 'HAIL', 'JAZAN', 'MADINA',\n",
       "       'MAKKAH', 'NAJRAN', 'NORTH BORDER', 'QASSIM', 'RIYADH', 'TABOUK',\n",
       "       nan, 'WESTERN', 'SOUTHERN', 'CENTRAL', 'NORTHERN'], dtype=object)"
      ]
     },
     "execution_count": 22,
     "metadata": {},
     "output_type": "execute_result"
    }
   ],
   "source": [
    "atms['reg'].unique()"
   ]
  },
  {
   "cell_type": "code",
   "execution_count": 23,
   "metadata": {
    "slideshow": {
     "slide_type": "-"
    }
   },
   "outputs": [],
   "source": [
    "# Remove duplicated reigons \n",
    "atms.reg.replace(to_replace =['NORTHERN','CENTRAL','MAKKAH','MADINA','ALBAHA','JAZAN','NAJRAN'], \n",
    "             value = ['NORTH BORDER','RIYADH','WESTERN','WESTERN','SOUTHERN','SOUTHERN','SOUTHERN'], \n",
    "             regex = False,inplace=True) "
   ]
  },
  {
   "cell_type": "code",
   "execution_count": 24,
   "metadata": {
    "slideshow": {
     "slide_type": "subslide"
    }
   },
   "outputs": [],
   "source": [
    "# Store all cities along with their reigons in a dictionary\n",
    "grouping_by = atms[atms.reg.notnull()].groupby(['reg','city_english'])\n",
    "city_reg={}\n",
    "\n",
    "for (i,j) in enumerate(grouping_by):\n",
    "    city_reg.update({j[0][1]: j[0][0]})"
   ]
  },
  {
   "cell_type": "code",
   "execution_count": 25,
   "metadata": {
    "slideshow": {
     "slide_type": "subslide"
    }
   },
   "outputs": [],
   "source": [
    "# Filling NaN reigons by the city from the city_reg dictionary\n",
    "length = (atms.shape[0])\n",
    "for i in range(length):\n",
    "    if (isinstance(atms['reg'].iloc[i], str)):\n",
    "        pass\n",
    "    else:\n",
    "        city= atms['city_english'].iloc[i]\n",
    "        region= city_reg.get(city)\n",
    "        atms['reg'].iloc[i]= region"
   ]
  },
  {
   "cell_type": "markdown",
   "metadata": {
    "slideshow": {
     "slide_type": "slide"
    }
   },
   "source": [
    "## 4. Cleaning Coordinates columns"
   ]
  },
  {
   "cell_type": "code",
   "execution_count": null,
   "metadata": {
    "slideshow": {
     "slide_type": "subslide"
    }
   },
   "outputs": [],
   "source": [
    "def check_coord(coordinate):\n",
    "    \"\"\"\n",
    "    Return correct coordinates \n",
    "    \"\"\"\n",
    "    if isinstance(coordinate, float):\n",
    "        if coordinate<90 and coordinate>-90:\n",
    "            return coordinate\n",
    "        else:\n",
    "            return None\n",
    "    else: \n",
    "        return None"
   ]
  },
  {
   "cell_type": "code",
   "execution_count": null,
   "metadata": {
    "slideshow": {
     "slide_type": "subslide"
    }
   },
   "outputs": [],
   "source": [
    "# Replace improper coordinates format with the decimal coordinates \n",
    "atms[['lon','lat']] = atms[['lat','lon']].applymap(lambda coordinate: check_coord(coordinate))"
   ]
  },
  {
   "cell_type": "markdown",
   "metadata": {
    "slideshow": {
     "slide_type": "slide"
    }
   },
   "source": [
    "# End of Data Cleaning!"
   ]
  },
  {
   "cell_type": "markdown",
   "metadata": {
    "slideshow": {
     "slide_type": "slide"
    }
   },
   "source": [
    "## Future Plan:\n",
    "   - Proceed with our cleaning plan until the data is totally clean\n",
    "   - Link the site column to google map\n",
    "   - Make a standard dictionary for All reigons, and cities and in both languages; Arabic and English, for Saudi Arabia\n",
    "   - Mark nearest ATMs to user location on the map\n"
   ]
  },
  {
   "cell_type": "code",
   "execution_count": null,
   "metadata": {
    "slideshow": {
     "slide_type": "slide"
    }
   },
   "outputs": [],
   "source": [
    "print(\"Thanks for listening!\")"
   ]
  }
 ],
 "metadata": {
  "celltoolbar": "Slideshow",
  "kernelspec": {
   "display_name": "Python 3",
   "language": "python",
   "name": "python3"
  },
  "language_info": {
   "codemirror_mode": {
    "name": "ipython",
    "version": 3
   },
   "file_extension": ".py",
   "mimetype": "text/x-python",
   "name": "python",
   "nbconvert_exporter": "python",
   "pygments_lexer": "ipython3",
   "version": "3.7.3"
  }
 },
 "nbformat": 4,
 "nbformat_minor": 4
}
